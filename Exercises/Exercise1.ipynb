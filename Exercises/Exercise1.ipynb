{
 "cells": [
  {
   "cell_type": "markdown",
   "metadata": {},
   "source": [
    "# Exercise 1.  Data Organization and Signal Averaging\n",
    "\n",
    "### This exercise introduces the organization of EEG data for analysis. There were many preprocessing steps prior to this point, specifically\n",
    "*   Segmentation of each trial of the experiment\n",
    "*   Removal of trials with excessive artifacts \n",
    "*   Signal processing to remove eye blinks and eye movements from the EEG \n",
    "*   Organization of EEG, trial labels, and behavioral data into a structure.  \n"
   ]
  },
  {
   "cell_type": "markdown",
   "metadata": {},
   "source": [
    "## Target Detection Experiment \n",
    "\n",
    "### These data were extracted from the ERP CORE (https://osf.io/thsqg/wiki/home/).  \n",
    "\n",
    "### These are data from the experiment, **Active Visual Oddball P3**\n",
    "\n",
    "### Some details of the experiment - \n",
    "*   The stimulus consists of the letters A, B, C, D, E\n",
    "*   In any block, one of the 5 letters was designated the \"target\" with a response with one hand, while the others were designated \"standards\" with response with the other hand. \n",
    "*   The probability of any letter appearing is 0.2.  \n",
    "*   The probability of a target appearing is 0.2 "
   ]
  },
  {
   "cell_type": "markdown",
   "metadata": {},
   "source": [
    "#### Load modules that we need "
   ]
  },
  {
   "cell_type": "code",
   "execution_count": null,
   "metadata": {},
   "outputs": [],
   "source": [
    "import numpy as np \n",
    "from matplotlib import pyplot as plt\n",
    "from hdf5storage import loadmat, savemat \n"
   ]
  },
  {
   "cell_type": "code",
   "execution_count": null,
   "metadata": {},
   "outputs": [],
   "source": []
  },
  {
   "cell_type": "markdown",
   "metadata": {},
   "source": [
    "## Data Files \n",
    "\n",
    "### I provided example data files for this tutorial in a hdf5 format file.  Matlab users will know this as a .mat file.  \n",
    "### There are native file formats in python called pickle, which are super convenient, but are not appropriate for sharing as they are insecure.    "
   ]
  },
  {
   "cell_type": "code",
   "execution_count": null,
   "metadata": {},
   "outputs": [],
   "source": [
    "data = loadmat('data/2_P3.mat')"
   ]
  },
  {
   "cell_type": "markdown",
   "metadata": {},
   "source": [
    "### Loadmat will will load a datafile into a dictionary.  A **dictionary** is a data structure in python that allows us to keep related data (for example from one data collection) together.  \n",
    "\n",
    "### To understand a dictionary contents, the best thing to do is to print out the **keys**.  "
   ]
  },
  {
   "cell_type": "code",
   "execution_count": null,
   "metadata": {},
   "outputs": [],
   "source": [
    "data.keys()"
   ]
  },
  {
   "cell_type": "markdown",
   "metadata": {},
   "source": [
    "### I habitually copy out the elements of a dictionary into simple variables, to make my life easy.  This is not required, and may use up memory. \n",
    "\n",
    "### To track everything, I use the key names as my variable names"
   ]
  },
  {
   "cell_type": "code",
   "execution_count": null,
   "metadata": {},
   "outputs": [],
   "source": [
    "blocktarget = data['blocktarget']\n",
    "channelnames = data['channelnames']\n",
    "eeg = data['eeg']\n",
    "eeg_time = data['eeg_time']\n",
    "goodtrials = data['goodtrials']\n",
    "nchannels = data['nchannels']\n",
    "ntrials = data['ntrials']\n",
    "response = data['response']\n",
    "responsetime = data['responsetime']\n",
    "samplingrate = data['samplingrate']\n",
    "stimulus = data['stimulus']\n",
    "target = data['target']"
   ]
  },
  {
   "cell_type": "markdown",
   "metadata": {},
   "source": [
    "## README \n",
    "\n",
    "### The information about the datafiles in an experiment is normally placed in a README file. \n",
    "### For convenience I am going to place that information here instead.\n",
    "\n",
    "###  This data was obtained from the archive ERP CORE and reorganized for this class. \n",
    "###  Each file contains the data of one participant, indicated in the filename. \n",
    "###  The variables contained here are \n",
    "\n",
    "*   `ntrials` - number of trials in the experiment \n",
    "*   `nchannels` - number of EEG channels \n",
    "*   `samplingrate` - number of samples of EEG in per second\n",
    "*   `eeg` - eegdata of the experiment.  of dimensions, ntrials x nchannels x ntimepoints.  The EEG is provided in units of volts. \n",
    "*   `eeg_time` - the time relative to *stimulus onset* in each EEG observation.\n",
    "*   `channelnames` - the name of the EEG channels indicating where it is located.    \n",
    "*   `stimulus` - the stimulus presented on each good trial, 1 = A, 2 = B, 3 = C, 4 = D, 5 = E \n",
    "*   `target` - the target stimulus on each good trial 1 = A, 2 = B, 3 = C, 4 = D, 5 = E\n",
    "*   `blocktarget` - indicates which trial had the target on each block, 1 if a target 0 if not a target. \n",
    "*   `response` - variable indicating the response accuracy 1 = correct, -1 = incorrect, 0 = no response,\n",
    "*   `responsetime` - time after stimulus onset when the subject provided a response. \n",
    "*   `goodtrials` - vector with value 1 if the trial had a response, 0 if no response or multiple responses.   \n"
   ]
  },
  {
   "cell_type": "markdown",
   "metadata": {},
   "source": [
    "### We can and should take a look at these variables manually before proceding "
   ]
  },
  {
   "cell_type": "markdown",
   "metadata": {},
   "source": [
    "### Stimulus and Target "
   ]
  },
  {
   "cell_type": "code",
   "execution_count": null,
   "metadata": {},
   "outputs": [],
   "source": [
    "plt.plot(stimulus,'ro')\n",
    "plt.plot(target,'bo')\n",
    "plt.grid()\n",
    "plt.legend(('Stimulus','Target'))\n",
    "plt.show()"
   ]
  },
  {
   "cell_type": "markdown",
   "metadata": {},
   "source": [
    "### Response "
   ]
  },
  {
   "cell_type": "code",
   "execution_count": null,
   "metadata": {},
   "outputs": [],
   "source": [
    "[values, instances] = np.unique(response,return_counts = True)\n",
    "print('Values are: ', values)\n",
    "print('Occuring: ', instances)"
   ]
  },
  {
   "cell_type": "markdown",
   "metadata": {},
   "source": [
    "### Response Time "
   ]
  },
  {
   "cell_type": "code",
   "execution_count": null,
   "metadata": {},
   "outputs": [],
   "source": [
    "plt.hist(responsetime)\n",
    "plt.title('Response Time Distribution')\n",
    "plt.xlabel('Time (msec)')\n",
    "plt.show()"
   ]
  },
  {
   "cell_type": "code",
   "execution_count": null,
   "metadata": {},
   "outputs": [],
   "source": [
    "test = (goodtrials == 1)\n"
   ]
  },
  {
   "cell_type": "code",
   "execution_count": null,
   "metadata": {},
   "outputs": [],
   "source": [
    "plt.hist(responsetime[goodtrials == 1])\n",
    "plt.title('Response Time Distribution')\n",
    "plt.xlabel('Time (msec)')\n",
    "plt.show()"
   ]
  },
  {
   "cell_type": "markdown",
   "metadata": {},
   "source": [
    "### Plot some EEG \n",
    "\n",
    "### The eeg variable is 3 dimensional.  The first dimension is the trial, the second dimension is the channel, 3rd dimension is time.  \n",
    "\n",
    "#### I am going to plot the first trial, channel 20, "
   ]
  },
  {
   "cell_type": "code",
   "execution_count": null,
   "metadata": {},
   "outputs": [],
   "source": [
    "plt.plot(eeg[0,20,:])\n",
    "plt.show()"
   ]
  },
  {
   "cell_type": "code",
   "execution_count": null,
   "metadata": {},
   "outputs": [],
   "source": [
    "plt.plot(eeg_time,eeg[0,20,:])\n",
    "plt.title('Channel '+channelnames[20])\n",
    "plt.show()"
   ]
  },
  {
   "cell_type": "code",
   "execution_count": null,
   "metadata": {},
   "outputs": [],
   "source": [
    "plt.plot(eeg_time,eeg[0:4,12,:])\n",
    "plt.title('Channel '+channelnames[12])\n",
    "plt.xlabel('Time (msec)')\n",
    "plt.grid()\n",
    "plt.show()"
   ]
  },
  {
   "cell_type": "markdown",
   "metadata": {},
   "source": [
    "## EVENT RELATED POTENTIALS \n",
    "### Its just a **mean**"
   ]
  },
  {
   "cell_type": "code",
   "execution_count": 1,
   "metadata": {},
   "outputs": [
    {
     "ename": "NameError",
     "evalue": "name 'np' is not defined",
     "output_type": "error",
     "traceback": [
      "\u001b[0;31m---------------------------------------------------------------------------\u001b[0m",
      "\u001b[0;31mNameError\u001b[0m                                 Traceback (most recent call last)",
      "\u001b[1;32m/Users/lizbethromero/Documents/GitHub/COGS108/108 cog/Exercises/Exercise1.ipynb Cell 27\u001b[0m in \u001b[0;36m<cell line: 1>\u001b[0;34m()\u001b[0m\n\u001b[0;32m----> <a href='vscode-notebook-cell:/Users/lizbethromero/Documents/GitHub/COGS108/108%20cog/Exercises/Exercise1.ipynb#X35sZmlsZQ%3D%3D?line=0'>1</a>\u001b[0m erp \u001b[39m=\u001b[39m np\u001b[39m.\u001b[39mmean(eeg,axis \u001b[39m=\u001b[39m\u001b[39m0\u001b[39m)\n",
      "\u001b[0;31mNameError\u001b[0m: name 'np' is not defined"
     ]
    }
   ],
   "source": [
    "erp = np.mean(eeg,axis =0)\n"
   ]
  },
  {
   "cell_type": "code",
   "execution_count": null,
   "metadata": {},
   "outputs": [],
   "source": [
    "plt.plot(eeg_time,erp[12,:])\n",
    "plt.title('Channel '+channelnames[12])\n",
    "plt.xlabel('Time (msec)')\n",
    "plt.grid()\n",
    "plt.show()"
   ]
  },
  {
   "cell_type": "markdown",
   "metadata": {},
   "source": [
    "### I need to take care of locating good trials"
   ]
  },
  {
   "cell_type": "code",
   "execution_count": null,
   "metadata": {},
   "outputs": [],
   "source": [
    "erp = np.mean(eeg[goodtrials == 1,:,:],axis =0)"
   ]
  },
  {
   "cell_type": "code",
   "execution_count": null,
   "metadata": {},
   "outputs": [],
   "source": [
    "plt.plot(eeg_time,erp[12,:])\n",
    "plt.title('Channel '+channelnames[12])\n",
    "plt.xlabel('Time (msec)')\n",
    "plt.grid()\n",
    "plt.show()"
   ]
  },
  {
   "cell_type": "markdown",
   "metadata": {},
   "source": [
    "## TASK CONTRAST\n",
    "\n",
    "### In analysis neural data there is usually a task contrast, or patient/control contrast I am really interested in.  \n",
    "\n",
    "### So averaging all the data together doesnt really inform me of everything. \n",
    "\n",
    "### In this task, the critical thing we are looking for is the difference between a target and a standard. \n",
    "\n",
    "### A target trial would correspond to when the stimulus and the target objective were the same. "
   ]
  },
  {
   "cell_type": "markdown",
   "metadata": {},
   "source": [
    "### So I need to interest the two conditions in a compound logical statement.  "
   ]
  },
  {
   "cell_type": "code",
   "execution_count": null,
   "metadata": {},
   "outputs": [],
   "source": [
    "erp_target = np.mean(eeg[(goodtrials == 1)&(stimulus==target),:,:],axis =0)"
   ]
  },
  {
   "cell_type": "code",
   "execution_count": null,
   "metadata": {},
   "outputs": [],
   "source": [
    "plt.plot(eeg_time,erp_target[12,:])\n",
    "plt.title('Channel '+channelnames[12])\n",
    "plt.xlabel('Time (msec)')\n",
    "plt.grid()\n",
    "plt.show()"
   ]
  },
  {
   "cell_type": "code",
   "execution_count": null,
   "metadata": {},
   "outputs": [],
   "source": [
    "erp_target = np.mean(eeg[(goodtrials == 1)&(blocktarget == 1),:,:],axis =0)\n",
    "erp_standard = np.mean(eeg[(goodtrials == 1)&(blocktarget != 1),:,:],axis =0)"
   ]
  },
  {
   "cell_type": "code",
   "execution_count": null,
   "metadata": {},
   "outputs": [],
   "source": [
    "plt.plot(eeg_time,erp_target[12,:],'r')\n",
    "plt.plot(eeg_time,erp_standard[12,:],'b')\n",
    "plt.title('Channel '+channelnames[12])\n",
    "plt.xlabel('Time (msec)')\n",
    "plt.grid()\n",
    "plt.show()"
   ]
  },
  {
   "cell_type": "markdown",
   "metadata": {},
   "source": [
    "## Problem 1:\n",
    "\n",
    "#### Make a new estimate of ERP_standard with the same number of trials included in the average as ERP_standard. For your convenience I have made a variable blocktarget which contains a value of 1 for each time the stimulus was the target and 0 otherwise. \n",
    "\n",
    "#### One way to do this is to use the trial just before the target as your \"standard\" trials.  The idea is that all other things are as equal as possible when you look at that response. \n",
    "\n"
   ]
  },
  {
   "cell_type": "code",
   "execution_count": null,
   "metadata": {},
   "outputs": [],
   "source": []
  },
  {
   "cell_type": "markdown",
   "metadata": {},
   "source": [
    "## Problem #2: \n",
    "\n",
    "#### Create 5 separate ERP averages for each letter using only the standards (dont include the targets).  Also make an average for just the targets. \n",
    "\n",
    "#### Investigate the channels O1, O2, PO7, PO8 to examine if the deflection of the signal around 170 ms shows any difference for different letter identies or for the target. \n",
    "\n",
    "#### Make a plot of each channel with all 6 waveforms.  "
   ]
  },
  {
   "cell_type": "code",
   "execution_count": null,
   "metadata": {},
   "outputs": [],
   "source": []
  }
 ],
 "metadata": {
  "kernelspec": {
   "display_name": "Python 3.9.12 ('base')",
   "language": "python",
   "name": "python3"
  },
  "language_info": {
   "codemirror_mode": {
    "name": "ipython",
    "version": 3
   },
   "file_extension": ".py",
   "mimetype": "text/x-python",
   "name": "python",
   "nbconvert_exporter": "python",
   "pygments_lexer": "ipython3",
   "version": "3.9.12"
  },
  "orig_nbformat": 4,
  "vscode": {
   "interpreter": {
    "hash": "2018230fb67f0388c7cfe6e113481935330f08fbddb3ccf17adc369bc6e672fb"
   }
  }
 },
 "nbformat": 4,
 "nbformat_minor": 2
}
