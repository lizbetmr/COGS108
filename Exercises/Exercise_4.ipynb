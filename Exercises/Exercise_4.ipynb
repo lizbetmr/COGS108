{
 "cells": [
  {
   "cell_type": "markdown",
   "metadata": {},
   "source": [
    "# Exercise 4: Extracting Quantitative Measures from EEG spectra "
   ]
  },
  {
   "cell_type": "markdown",
   "metadata": {},
   "source": [
    "### This exercise makes use of data from the paper \n",
    "\n",
    "### Dissociable Decoding of Working Memory and Spatial Attention from EEG Oscillations and Sustained Potentials\"\n",
    "\n",
    "#### Bae, G. Y., & Luck, S. J. (2018). Dissociable Decoding of Spatial Attention and Working Memory from EEG Oscillations and Sustained Potentials. Journal of Neuroscience, 38(2), 409-422.\n",
    "\n",
    "#### The paper is available in the readings folder.  \n",
    "\n",
    "## This data set is potentially a very good data set to use for your final project as it is information rich. \n",
    "\n",
    "#### Having said that, I dislike many aspects of the paper.  "
   ]
  },
  {
   "cell_type": "markdown",
   "metadata": {},
   "source": [
    "#### Load modules that we need "
   ]
  },
  {
   "cell_type": "code",
   "execution_count": null,
   "metadata": {},
   "outputs": [],
   "source": [
    "import numpy as np \n",
    "from matplotlib import pyplot as plt\n",
    "from hdf5storage import loadmat, savemat \n",
    "from scipy.fftpack import fft \n",
    "from scipy import signal\n",
    "\n"
   ]
  },
  {
   "cell_type": "code",
   "execution_count": null,
   "metadata": {},
   "outputs": [],
   "source": [
    "data = loadmat('data/wm_orientation_506.mat')\n",
    "\n"
   ]
  },
  {
   "cell_type": "code",
   "execution_count": null,
   "metadata": {},
   "outputs": [],
   "source": [
    "data.keys()\n"
   ]
  },
  {
   "cell_type": "code",
   "execution_count": null,
   "metadata": {},
   "outputs": [],
   "source": [
    "#extract the variables from the dictionary \n",
    "eeg = data['eeg']\n",
    "channel_names = data['channel_names']\n",
    "angle = np.int16(data['angle'][0])\n",
    "response = np.int16(data['response'][0])\n",
    "samplingrate = int(data['samplingrate'][0])\n",
    "time = np.int16(data['time'][0])\n",
    "stimsamp = 375 #I looked at time to figure this out.  \n",
    "ntrials = eeg.shape[0]\n",
    "nchannels = eeg.shape[1]\n",
    "nsamps = eeg.shape[2]"
   ]
  },
  {
   "cell_type": "markdown",
   "metadata": {},
   "source": [
    "## README \n",
    "\n",
    "![Experiment](img/BaeLuckFigure1.jpg)\n",
    "\n",
    "### In this experiment, participants are presented tear drops of different orientation for 200 ms.  \n",
    "\n",
    "### After a delay period of 1300 ms, they rotate an arrow to match the orientation presented. \n",
    "\n",
    "### The data presented includes 1500 ms before the stimulus presented, 200 ms of stimulus presentation and 1300 ms of hold period. \n",
    "\n",
    "### The response period is not included. \n",
    "\n",
    "###  The variables contained here are \n",
    "\n",
    "\n",
    "*   `samplingrate` - number of samples of EEG in per second\n",
    "*   `eeg` - eegdata of the experiment.  of dimensions, ntrials x nchannels x ntimepoints.  The EEG is provided in units of volts. \n",
    "*   `time` - the time relative to *stimulus onset* in each EEG observation.\n",
    "*   `channel_names` - the name of the EEG channels indicating where it is located.    \n",
    "*   `angle` - the angle of the teardrop stimulus  \n",
    "*   `response` - the angle reported by the subject. \n",
    "\n"
   ]
  },
  {
   "cell_type": "markdown",
   "metadata": {},
   "source": [
    "## Problem #1\n",
    "\n",
    "\n",
    "#### In the tutorial example. we compared the response when the task was to remember an angle of 0 degrees to the response when the angle was 180 degrees using 1 second after the stimulus presentation\n",
    "\n",
    "`poststim = range(375,625,1)`\n",
    "\n",
    "#### However, during this interval, the stimulus is presented on the screen for the first 200 ms (50 samples at a sampling rate of 250), so we may just be differentiating the response to the stimulus rather than working memory. The most task relevant interval would be the period just prior to the response, when they are holding the item in memory and preparing to make a response. \n",
    "\n",
    "#### a. Divide the 1.5 sec interval (375 samples) after stimulus presentation into 3 intervals of length 0.5 second (125 samples) and compute the average amplitude spectrum for each angle from 0 to 360 for each of the 3 intervals.  So there are 3 intervals \n",
    "\n",
    "* 0 -0.5s, samples 375-500\n",
    "* 0.5 -1s, samples 500-625\n",
    "* 1 -1.5s, samples 625- 750\n",
    "\n",
    "#### b. For visualization, we will focus on PO7 and PO8 over the left and right hemispheres respectively, and the angles 0 and 180 which are pointing to the left and right.   For each of the three intervals, make a separate graph for PO7 and PO8 plotting the amplitude spectrum of the EEG for stimuli in memory at angle 0 and angle 180.  \n",
    "\n",
    "#### c. Extract the amplitude values at 10 Hz for all 27 channels in the interval using the amplitude spectrum computed from the interval from 1-1.5s.  Following the tutorial make a plot of the amplitude at each channel at 10 Hz.   "
   ]
  },
  {
   "cell_type": "code",
   "execution_count": null,
   "metadata": {},
   "outputs": [],
   "source": [
    "\n"
   ]
  }
 ],
 "metadata": {
  "kernelspec": {
   "display_name": "Python 3.9.12 ('eeg')",
   "language": "python",
   "name": "python3"
  },
  "language_info": {
   "codemirror_mode": {
    "name": "ipython",
    "version": 3
   },
   "file_extension": ".py",
   "mimetype": "text/x-python",
   "name": "python",
   "nbconvert_exporter": "python",
   "pygments_lexer": "ipython3",
   "version": "3.9.12"
  },
  "orig_nbformat": 4,
  "vscode": {
   "interpreter": {
    "hash": "865db03388ba9bb0c3ffa1f5a9ec6862d804daa515edd12d6b924569723c412d"
   }
  }
 },
 "nbformat": 4,
 "nbformat_minor": 2
}
