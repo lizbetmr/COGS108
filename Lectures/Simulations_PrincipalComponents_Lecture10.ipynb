{
 "cells": [
  {
   "cell_type": "markdown",
   "metadata": {},
   "source": [
    "# Principal Components for Dimensionality Reduction "
   ]
  },
  {
   "cell_type": "code",
   "execution_count": null,
   "metadata": {},
   "outputs": [],
   "source": [
    "import numpy as np\n",
    "from numpy import linalg\n",
    "from scipy.io import loadmat\n",
    "import matplotlib.pyplot as plt"
   ]
  },
  {
   "cell_type": "markdown",
   "metadata": {},
   "source": [
    "#### Compute Covariance and Correlation - A small bit of **functional connectivity**"
   ]
  },
  {
   "cell_type": "code",
   "execution_count": null,
   "metadata": {},
   "outputs": [],
   "source": [
    "eeg = loadmat('data/eeg_full.mat') #load a big EEG data set\n",
    "data = eeg['data'] \n",
    "channels10 = [8,21,23,35,49,65,78,87,98,115]\n",
    "data10 = data[:,channels10] #select 10 channels, distributed over head, note here channels are columns not rows. \n",
    "plt.figure(figsize=(8,6))\n",
    "plt.plot(data10)\n",
    "plt.xlabel('Time(ms)')\n",
    "plt.show()\n",
    "data10 = np.transpose(data10)  #python likes variables in rows. \n",
    "C10 = np.cov(data10) #compute covariance\n",
    "R10 = np.corrcoef(data10) #compute correlation coefficient\n",
    "plt.figure(figsize = (8,8))\n",
    "plt.imshow(C10,cmap='jet') \n",
    "plt.colorbar()\n",
    "plt.title('Covariance')\n",
    "plt.show()\n",
    "plt.figure(figsize = (8,8))\n",
    "plt.imshow(R10,vmin=-1,vmax=1,cmap='jet')\n",
    "plt.colorbar()\n",
    "plt.title('Correlation')\n",
    "plt.show()"
   ]
  },
  {
   "cell_type": "markdown",
   "metadata": {},
   "source": [
    "#### Calculate eigenvalues and eigenvectors and evaluate how much of the variance of the data is in each component. "
   ]
  },
  {
   "cell_type": "code",
   "execution_count": null,
   "metadata": {},
   "outputs": [],
   "source": [
    "d,v = linalg.eig(C10)  #compute eigenvalues and eigenvectors \n",
    "plt.figure()\n",
    "plt.bar(np.arange(1,11,1),d) #plot variance associated with each eigenvector\n",
    "plt.xlabel('Component Number')\n",
    "plt.ylabel('Eigenvalues')\n",
    "plt.show()\n",
    "percentvariance = 100*d/np.sum(d) #plot variance for each eigenvector as a % of total \n",
    "plt.figure()\n",
    "plt.bar(np.arange(1,11,1),percentvariance)\n",
    "plt.ylabel('Percentage Variance')\n",
    "plt.xlabel('Component Number')\n",
    "plt.show()\n",
    "cumpercentvar = np.cumsum(percentvariance) #plot cumulative variance for each eigenvector.  \n",
    "plt.figure()\n",
    "plt.bar(np.arange(1,11,1),cumpercentvar)\n",
    "plt.ylabel('Cumulative Percentage Variance')\n",
    "plt.xlabel('Component Number')"
   ]
  },
  {
   "cell_type": "markdown",
   "metadata": {},
   "source": [
    "#### Project the data to compute the principal component signals.  "
   ]
  },
  {
   "cell_type": "code",
   "execution_count": null,
   "metadata": {},
   "outputs": [],
   "source": [
    "compEEG = np.transpose(v)@data10 #project the data onto the eigenvectors \n",
    "plt.figure(figsize = (8,6)) #plot a few component time series \n",
    "plt.plot(compEEG[0,:],label='Component 0') \n",
    "\n",
    "plt.plot(compEEG[1,:],label='Component 1') \n",
    "plt.plot(compEEG[4,:],label='Component 4') \n",
    "plt.legend()\n",
    "plt.show()"
   ]
  },
  {
   "cell_type": "markdown",
   "metadata": {},
   "source": [
    "#### Approximating an EEG signal with just a few principal components.   "
   ]
  },
  {
   "cell_type": "code",
   "execution_count": null,
   "metadata": {},
   "outputs": [],
   "source": [
    "ncomponents = 2  #determine number of components to keep \n",
    "v_components  = v[:,np.arange(0,ncomponents,1)] #keep only the columns of v corresponding to components to keep\n",
    "compEEG_components = compEEG[np.arange(0,ncomponents,1),:] #keep only corresponding component time series\n",
    "data10recovered = v_components@compEEG_components #recover the data with subset of components\n",
    "plt.figure()\n",
    "plt.plot(data10[5,:],label='Original Data') #I arbitrarily chose 6th channel to plot. \n",
    "plt.plot(data10recovered[5,:],label='Reconstructed Data') #This is the approximation\n",
    "plt.legend()\n",
    "plt.title('channel = ' + str(channels10[5]) + ': ncomp = ' + str(ncomponents))\n",
    "plt.show()\n"
   ]
  },
  {
   "cell_type": "markdown",
   "metadata": {},
   "source": [
    "#### Principal Component Loading on the Original EEG signals "
   ]
  },
  {
   "cell_type": "code",
   "execution_count": null,
   "metadata": {},
   "outputs": [],
   "source": [
    "plt.figure(figsize = (8,6))\n",
    "plt.plot(v[:,0],'ko-',label='Loading 0')\n",
    "plt.plot(v[:,1],'ro-',label='Loading 1')\n",
    "plt.plot(v[:,2],'bo-',label='Loading 2')\n",
    "plt.plot(v[:,3],'go-',label='Loading 3')\n",
    "plt.xlabel('Channel')\n",
    "plt.xticks(range(10),labels = channels10)\n",
    "plt.legend()\n",
    "plt.grid()\n",
    "plt.show()"
   ]
  }
 ],
 "metadata": {
  "kernelspec": {
   "display_name": "Python 3.9.12 ('eeg')",
   "language": "python",
   "name": "python3"
  },
  "language_info": {
   "codemirror_mode": {
    "name": "ipython",
    "version": 3
   },
   "file_extension": ".py",
   "mimetype": "text/x-python",
   "name": "python",
   "nbconvert_exporter": "python",
   "pygments_lexer": "ipython3",
   "version": "3.9.12"
  },
  "orig_nbformat": 4,
  "vscode": {
   "interpreter": {
    "hash": "865db03388ba9bb0c3ffa1f5a9ec6862d804daa515edd12d6b924569723c412d"
   }
  }
 },
 "nbformat": 4,
 "nbformat_minor": 2
}
