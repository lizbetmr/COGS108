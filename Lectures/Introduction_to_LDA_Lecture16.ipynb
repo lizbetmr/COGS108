{
 "cells": [
  {
   "cell_type": "markdown",
   "metadata": {},
   "source": [
    "# Introduction to Linear Discriminant Analysis (LDA) \n",
    "\n",
    "#### In this motebook we introduce the LDA method in scikit-learn, explain its properties and contrast it with PCA.  "
   ]
  },
  {
   "cell_type": "code",
   "execution_count": null,
   "metadata": {},
   "outputs": [],
   "source": [
    "from hdf5storage import loadmat, savemat\n",
    "import numpy as np\n",
    "from matplotlib import pyplot as plt"
   ]
  },
  {
   "cell_type": "markdown",
   "metadata": {},
   "source": [
    "#### We are going to load the famous Fisher Iris Data set.  If you take machine learning over in computer science, you will repeatedly analyze these data (according to my grad students).  I will make you look at it once or wice. "
   ]
  },
  {
   "cell_type": "code",
   "execution_count": null,
   "metadata": {},
   "outputs": [],
   "source": [
    "irisdata = loadmat('irisdata.mat')\n"
   ]
  },
  {
   "cell_type": "code",
   "execution_count": null,
   "metadata": {},
   "outputs": [],
   "source": [
    "irisdata.keys()"
   ]
  },
  {
   "cell_type": "code",
   "execution_count": null,
   "metadata": {},
   "outputs": [],
   "source": [
    "feature_label = irisdata['feature_label']\n",
    "measurement = irisdata['measurement']\n",
    "species = irisdata['species']\n",
    "species_id = irisdata['species_id']\n",
    "species_label = irisdata['species_label']\n"
   ]
  },
  {
   "cell_type": "markdown",
   "metadata": {},
   "source": [
    "### README \n",
    "\n",
    "#### `feature_label` is a list of the 4 features \n",
    "#### `measurement` is the data (150 x 4)\n",
    "#### `species` is a list of the species for each of the 150 samples \n",
    "#### `species_id` is the same as species but with a numeric label.\n",
    "#### `species_label` is a list of the 3 species labels.   "
   ]
  },
  {
   "cell_type": "code",
   "execution_count": null,
   "metadata": {},
   "outputs": [],
   "source": [
    "for j in range(4):\n",
    "    plt.figure(figsize = (8,8))\n",
    "    plt.hist((measurement[species_id==1,j],measurement[species_id==2,j],measurement[species_id==3,j]))\n",
    "    plt.legend((species_label[0],species_label[1],species_label[2]))\n",
    "    plt.xlabel(feature_label[j])\n",
    "    plt.ylabel('number of observations')\n",
    "    plt.show()"
   ]
  },
  {
   "cell_type": "markdown",
   "metadata": {},
   "source": [
    "#### Lets load the LDA module from sklearn.  Im also going to import PCA for comparison"
   ]
  },
  {
   "cell_type": "code",
   "execution_count": null,
   "metadata": {},
   "outputs": [],
   "source": [
    "from sklearn.discriminant_analysis import LinearDiscriminantAnalysis as LDA\n",
    "from sklearn.decomposition import PCA \n"
   ]
  },
  {
   "cell_type": "code",
   "execution_count": null,
   "metadata": {},
   "outputs": [],
   "source": [
    "#from sklearn.preprocessing import StandardScaler\n",
    "#sc = StandardScaler()\n",
    "#measurement = sc.fit_transform(measurement)"
   ]
  },
  {
   "cell_type": "markdown",
   "metadata": {},
   "source": [
    "#### To make the LDA model, the calls are very similar to PCA"
   ]
  },
  {
   "cell_type": "code",
   "execution_count": null,
   "metadata": {},
   "outputs": [],
   "source": [
    "iris_lda = LDA(n_components=2) # the highest number of components is the number of classes - 1\n",
    "iris_lda.fit(measurement, species)\n",
    "measurement_lda = iris_lda.transform(measurement)\n",
    "coef_lda = iris_lda.coef_"
   ]
  },
  {
   "cell_type": "code",
   "execution_count": null,
   "metadata": {},
   "outputs": [],
   "source": [
    "plt.figure(figsize = (8,8))\n",
    "plt.plot(measurement_lda[species_id == 1,0],measurement_lda[species_id ==1,1],'bo')\n",
    "plt.plot(measurement_lda[species_id == 2,0],measurement_lda[species_id ==2,1],'ro')\n",
    "plt.plot(measurement_lda[species_id == 3,0],measurement_lda[species_id ==3,1],'go')\n",
    "plt.legend((species_label[0],species_label[1],species_label[2]))\n",
    "plt.xlabel('LDA 1')\n",
    "plt.ylabel('LDA 2')\n",
    "plt.show()"
   ]
  },
  {
   "cell_type": "code",
   "execution_count": null,
   "metadata": {},
   "outputs": [],
   "source": [
    "print(coef_lda)\n",
    "print(feature_label)\n"
   ]
  },
  {
   "cell_type": "markdown",
   "metadata": {},
   "source": [
    "#### For comparison, lets make a PCA model. \n",
    "\n"
   ]
  },
  {
   "cell_type": "code",
   "execution_count": null,
   "metadata": {},
   "outputs": [],
   "source": [
    "iris_pca = PCA(n_components=3)\n",
    "iris_pca.fit(measurement)\n",
    "measurement_pca = iris_pca.transform(measurement)\n",
    "components_pca = iris_pca.components_\n",
    "plt.figure(figsize = (8,8))\n",
    "plt.plot(measurement_pca[species_id == 1,0],measurement_pca[species_id ==1,1],'bo')\n",
    "plt.plot(measurement_pca[species_id == 2,0],measurement_pca[species_id ==2,1],'ro')\n",
    "plt.plot(measurement_pca[species_id == 3,0],measurement_pca[species_id ==3,1],'go')\n",
    "plt.legend((species_label[0],species_label[1],species_label[2]))\n",
    "plt.xlabel('PCA 1')\n",
    "plt.ylabel('PCA 2')"
   ]
  },
  {
   "cell_type": "markdown",
   "metadata": {},
   "source": [
    "#### Let's run LDA again with 1 components and make a prediction  "
   ]
  },
  {
   "cell_type": "code",
   "execution_count": null,
   "metadata": {},
   "outputs": [],
   "source": [
    "iris_lda = LDA(n_components=1) # the highest number of components is the number of classes - 1\n",
    "iris_lda.fit(measurement, species)\n",
    "measurement_lda = iris_lda.transform(measurement)\n",
    "coef_lda = iris_lda.coef_"
   ]
  },
  {
   "cell_type": "code",
   "execution_count": null,
   "metadata": {},
   "outputs": [],
   "source": [
    "plt.figure(figsize = (8,8))\n",
    "plt.hist((measurement_lda[species_id==1,0],measurement_lda[species_id==2,0],measurement_lda[species_id==3,0]))\n",
    "plt.legend((species_label[0],species_label[1],species_label[2]))\n",
    "plt.xlabel('LDA 1')\n",
    "plt.ylabel('number of observations')\n",
    "plt.show()"
   ]
  },
  {
   "cell_type": "markdown",
   "metadata": {},
   "source": [
    "#### Lets use the LDA model to predict the labels of the measurement  "
   ]
  },
  {
   "cell_type": "code",
   "execution_count": null,
   "metadata": {},
   "outputs": [],
   "source": [
    "lda_species = iris_lda.predict(measurement)\n",
    "diff = (lda_species == species)\n",
    "ncorrect = sum(diff)\n",
    "print(ncorrect)\n",
    "print(ncorrect/150)"
   ]
  },
  {
   "cell_type": "markdown",
   "metadata": {},
   "source": [
    "#### **Something is logically wrong with what I did here.**  "
   ]
  },
  {
   "cell_type": "markdown",
   "metadata": {},
   "source": [
    "## CROSS-VALIDATION\n",
    "\n",
    "#### In order to assess a model, I need to set aside data, and then test the model on data that was not part of the training. \n",
    "#### One way to tackle this is called **K-fold cross-validation**"
   ]
  },
  {
   "cell_type": "code",
   "execution_count": null,
   "metadata": {},
   "outputs": [],
   "source": [
    "from sklearn.model_selection import KFold \n",
    "kf = KFold(n_splits = 5,shuffle = True)"
   ]
  },
  {
   "cell_type": "markdown",
   "metadata": {},
   "source": [
    "#### The function KFold, shuffles then splits the data into n_splits equal sized compartments. \n",
    "#### The model is created n_splits times, each time not using a different part of the data. \n",
    "#### The model is then tested on the data that is set aside. "
   ]
  },
  {
   "cell_type": "code",
   "execution_count": null,
   "metadata": {},
   "outputs": [],
   "source": [
    "kf = KFold(n_splits = 5,shuffle = True)\n",
    "ERRORS = 0\n",
    "for train_index, test_index in kf.split(measurement):\n",
    "#    print(\"TRAIN:\", train_index, \"TEST:\", test_index)\n",
    "    meas_train, meas_test = measurement[train_index], measurement[test_index]\n",
    "    Label_train, Label_test = species_id[train_index], species_id[test_index]\n",
    "    lda = LDA(n_components=1)\n",
    "    meas_model = lda.fit_transform(meas_train, Label_train)\n",
    "    CLASS = lda.predict(meas_test)\n",
    "    TEST = Label_test == CLASS\n",
    "    ERRORS = ERRORS + sum(~TEST)\n",
    "ERRORRATE = ERRORS/len(species_id)\n",
    "meas_model = lda.fit_transform(measurement,species_id)\n",
    "COEF= lda.coef_  \n",
    "print(ERRORRATE)\n",
    "print(COEF)"
   ]
  }
 ],
 "metadata": {
  "kernelspec": {
   "display_name": "Python 3.9.12 ('eeg')",
   "language": "python",
   "name": "python3"
  },
  "language_info": {
   "codemirror_mode": {
    "name": "ipython",
    "version": 3
   },
   "file_extension": ".py",
   "mimetype": "text/x-python",
   "name": "python",
   "nbconvert_exporter": "python",
   "pygments_lexer": "ipython3",
   "version": "3.9.12"
  },
  "orig_nbformat": 4,
  "vscode": {
   "interpreter": {
    "hash": "865db03388ba9bb0c3ffa1f5a9ec6862d804daa515edd12d6b924569723c412d"
   }
  }
 },
 "nbformat": 4,
 "nbformat_minor": 2
}
