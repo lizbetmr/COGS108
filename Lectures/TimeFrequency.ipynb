{
 "cells": [
  {
   "cell_type": "markdown",
   "metadata": {},
   "source": [
    "# Time and Frequency in EEG \n",
    "\n"
   ]
  },
  {
   "cell_type": "code",
   "execution_count": null,
   "metadata": {},
   "outputs": [],
   "source": [
    "import numpy as np\n",
    "from matplotlib import pyplot as plt \n",
    "##THIS IS NEW\n",
    "from scipy.fftpack import fft, ifft  #THIS IS THE NEW FUNCTION!\n",
    "from hdf5storage import loadmat "
   ]
  },
  {
   "cell_type": "code",
   "execution_count": null,
   "metadata": {},
   "outputs": [],
   "source": [
    "def sinusoid(f,t,A = 1,theta = 0):\n",
    "    ''' makes a sinusoid of given frequency (f) at the time points given in t. \n",
    "    Amplitude (A) and phase (theta) can be optionally specified.  Phase is given in degrees not radians'''\n",
    "    theta = theta*np.pi/180 #convert theta from degrees to radians\n",
    "    e = A*np.cos(2*np.pi*f*t+theta)\n",
    "    return e"
   ]
  },
  {
   "cell_type": "markdown",
   "metadata": {},
   "source": [
    "## Frequency Resolution and Units\n",
    "\n",
    "### In this section we will revisit the notion of frequency resolution, and take that into consideration in designing the units with which we evaluate amplitdue. \n",
    "\n"
   ]
  },
  {
   "cell_type": "code",
   "execution_count": null,
   "metadata": {},
   "outputs": [],
   "source": [
    "samplingrate = 200 # this is the rate at which the signal is sampled.  \n",
    "ts = 1/samplingrate #  this is the interval in time between samples.  \n",
    "T = 2 #This is the total length (in seconds) of the interval. \n",
    "t = np.arange(0,T,ts) #this is the time time vector with 1 value of time for each sample.  \n",
    "#manipulate phase (theta) \n",
    "es = dict()\n",
    "f1 = 20\n",
    "f = np.arange(15,25.1,0.1)\n",
    "fplot = f-f1;\n",
    "nof = np.size(f)\n",
    "nsamp = np.size(t)\n",
    "dp = np.zeros(nof)\n",
    "for j in range(nof):\n",
    "    es[0] = sinusoid(f[j],t)\n",
    "    es[1] = sinusoid(f1,t)\n",
    "    dp[j] = np.sum(es[0]*es[1])/nsamp \n",
    "plt.plot(fplot,dp)\n",
    "plt.plot(fplot,dp,'ro')\n",
    "plt.grid()\n",
    "plt.show()\n"
   ]
  },
  {
   "cell_type": "markdown",
   "metadata": {},
   "source": [
    "### Discretization of Frequency \n",
    "\n",
    "#### When we sample the time series, we discretize time by the sampling rate.  In the example above `ts = 1/samplingrate` is 0.05 s. \n",
    "#### Whatever value we have at each time step (`t`) is actually a value fixed for an interval time **centered** on that value of `t`\n",
    "\n",
    "#### Similarly, frequency is discrate. The frequency resolved by the FFT depends on the interval `T` as \n",
    "\n",
    "#### $$ f_n = n/T $$ where n is any integer upto the number of samples divided by 2 (Nyquist theorem).  \n",
    "\n",
    "#### so if `T` = 2s, $f_n = n/T = n/2 = 0,0.5,1,1.5,2...... $\n",
    "\n",
    "* ####  f = 0.5 is the **interval** [0.25,0.75]\n",
    "* ####  f = 1 is the **interval** [0.75, 1.25]\n",
    "\n",
    "####  if `T` = 0.5s, $f_n = n/T = n/0.5 =  0,2,4,6,8....... $\n",
    "\n",
    "* ####  f = 2 is the **interval** [1,3]\n",
    "* ####  f = 4 is the **interval** [3, 5]"
   ]
  },
  {
   "cell_type": "code",
   "execution_count": null,
   "metadata": {},
   "outputs": [],
   "source": [
    "data = loadmat('data/LFP.mat', squeeze_me=True)\n",
    "print(data.keys())\n",
    "\n",
    "# unpack the variables\n",
    "fs = data['fs'] # sampling rate \n",
    "deltaT = 1/fs # time steps\n",
    "T = 2# segment length \n",
    "nsamp = int(T*fs) # number of samples is the segment length\n",
    "\n",
    "lfp = data['lfp'][0,:]/1000 \n",
    "lfp_short = lfp[range(0,nsamp)] # make a variable that has only the first T seconds of the LFP\n",
    "t_short = np.arange(0, nsamp*deltaT, deltaT) # create the corresponding time vector\n",
    "plt.figure(figsize=(15,3))\n",
    "plt.plot(t_short,lfp_short, 'k', alpha=0.8)\n",
    "plt.xlabel('Time (s)');\n",
    "plt.ylabel('Voltage');\n",
    "plt.show()"
   ]
  },
  {
   "cell_type": "code",
   "execution_count": null,
   "metadata": {},
   "outputs": [],
   "source": [
    "#FFT the whole thing.  \n",
    "xf = fft(lfp_short) #take the fft \n",
    "deltaF = 1/T \n",
    "amplitude = 2*np.abs(xf)/nsamp\n",
    "nf = int(np.floor(nsamp/2)) #number of frequencies you can estimate is 1/2 the number of samples.\n",
    "                            #I used floor just in case nsamp is odd. \n",
    "f_n = np.arange(0,nf)*deltaF\n",
    "maxf = 50  #highest frequency I want to plot\n",
    "maxbin = int(maxf/deltaF) #index corresponding to highest frequency to plot.  \n",
    "plt.plot(f_n[0:maxbin],amplitude[0:maxbin])\n",
    "plt.xlabel('Frequency (Hz)')\n",
    "plt.ylabel('Amplitude (V/bin)')\n",
    "plt.grid(True)\n",
    "plt.show()\n"
   ]
  },
  {
   "cell_type": "code",
   "execution_count": null,
   "metadata": {},
   "outputs": [],
   "source": [
    "#FFT the whole thing.  \n",
    "xf = fft(lfp_short) #take the fft \n",
    "deltaF = 1/T \n",
    "amplitude = 2*np.abs(xf)/nsamp\n",
    "nf = int(np.floor(nsamp/2)) #number of frequencies you can estimate is 1/2 the number of samples.\n",
    "                            #I used floor just in case nsamp is odd. \n",
    "f_n = np.arange(0,nf)*deltaF\n",
    "maxf = 50  #highest frequency I want to plot\n",
    "maxbin = int(maxf/deltaF) #index corresponding to highest frequency to plot.  \n",
    "amplitude = amplitude/deltaF # amplitude is in V/bin. deltaF is hz/bin  \n",
    "plt.plot(f_n[0:maxbin],amplitude[0:maxbin])\n",
    "plt.xlabel('Frequency (Hz)')\n",
    "plt.ylabel('Amplitude (V/Hz)')\n",
    "plt.grid(True)\n",
    "plt.show()"
   ]
  },
  {
   "cell_type": "markdown",
   "metadata": {},
   "source": [
    "#### Power versus Amplitude \n",
    "\n",
    "#### For theoretical reasons (and for some less objective reasons) some results are presented as power rather than amplitde. \n",
    "\n",
    "#### Power is the amplitude squared.  Theoretically, it has the same properties as variance, and hence is more useful for theory development.  "
   ]
  },
  {
   "cell_type": "code",
   "execution_count": null,
   "metadata": {},
   "outputs": [],
   "source": [
    "xf = fft(lfp_short) #take the fft \n",
    "deltaF = 1/T \n",
    "power = 2*(np.abs(xf)/nsamp)**2\n",
    "nf = int(np.floor(nsamp/2)) #number of frequencies you can estimate is 1/2 the number of samples.\n",
    "                            #I used floor just in case nsamp is odd. \n",
    "f_n = np.arange(0,nf)*deltaF\n",
    "maxf = 50  #highest frequency I want to plot\n",
    "maxbin = int(maxf/deltaF) #index corresponding to highest frequency to plot.  \n",
    "power = power/deltaF # amplitude is in V/bin. deltaF is hz/bin  \n",
    "plt.plot(f_n[0:maxbin],power[0:maxbin])\n",
    "plt.xlabel('Frequency (Hz)')\n",
    "plt.ylabel('Power (V^2/Hz)')\n",
    "plt.grid(True)\n",
    "plt.show()"
   ]
  },
  {
   "cell_type": "markdown",
   "metadata": {},
   "source": [
    "## Temporal Evolution of EEG spectrum \n",
    "\n"
   ]
  },
  {
   "cell_type": "code",
   "execution_count": null,
   "metadata": {},
   "outputs": [],
   "source": [
    "#d averaging them together. \n",
    "T = 2# segment length \n",
    "nsamp = T*fs # number of samples is the segment length\n",
    "deltaF = 1/T  #frequency steps\n",
    "nf = int(np.floor(nsamp/2)) #number of frequencies you can estimate is 1/2 the number of samples.\n",
    "                            #I used floor just in case nsamp is odd. \n",
    "f_n = np.arange(0,nf)*deltaF # the frequencies resolved by the fft \n",
    "maxf = 100  #highest frequency I want to plot\n",
    "maxbin = int(maxf/deltaF) #index to highest frequency I wasnt to plot \n",
    "nepochs = 40\n",
    "amplitude = np.zeros((nepochs,nf)) #I made an empty array to hold the amplitude spectra of each frequency \n",
    "for j in range(nepochs):\n",
    "    lfp_short = lfp[range(j*nsamp,(j+1)*nsamp)]\n",
    "    xf = fft(lfp_short)\n",
    "    amplitude[j,:] = 2*np.abs(xf[0:nf])/nsamp #always divide by number of samples. 2 x for negative frequencies \n",
    "#    plt.plot(f_n[0:maxbin],amplitude[j,0:maxbin]) #plot the individual epoch spectra (YOU DONT NEED TO DO THIS FOR THE HWK)\n",
    "amplitude_avg = np.mean(amplitude,axis = 0) #take the average over all epochs\n",
    "amplitude_avg = amplitude_avg/deltaF\n",
    "plt.plot(f_n[0:maxbin],amplitude_avg[0:maxbin],'k',linewidth=2) \n",
    "plt.xlabel('Frequency (Hz)')\n",
    "plt.ylabel('Amplitude (V/Hz)')\n",
    "plt.grid(True)\n",
    "plt.show()"
   ]
  },
  {
   "cell_type": "code",
   "execution_count": null,
   "metadata": {},
   "outputs": [],
   "source": [
    "plt.imshow(amplitude[:,0:maxbin],aspect = 'auto',origin='lower',extent = [0,maxf,0,nepochs])\n",
    "plt.show()"
   ]
  },
  {
   "cell_type": "code",
   "execution_count": null,
   "metadata": {},
   "outputs": [],
   "source": [
    "#lets load some P300 ERP data \n",
    "\n",
    "data = loadmat('../Exercises/data/2_P3.mat')\n",
    "blocktarget = data['blocktarget']\n",
    "channelnames = data['channelnames']\n",
    "eeg = data['eeg']\n",
    "eeg_time = data['eeg_time']\n",
    "goodtrials = data['goodtrials']\n",
    "nchannels = data['nchannels']\n",
    "ntrials = data['ntrials']\n",
    "response = data['response']\n",
    "responsetime = data['responsetime']\n",
    "samplingrate = data['samplingrate']\n",
    "stimulus = data['stimulus']\n",
    "target = data['target']\n",
    "eeg = eeg*10**6\n"
   ]
  },
  {
   "cell_type": "code",
   "execution_count": null,
   "metadata": {},
   "outputs": [],
   "source": [
    "channelno = 12 #25\n",
    "c_eeg = np.squeeze(eeg[:,channelno,:])\n",
    "T = 0.2\n",
    "nsamps = int(T*samplingrate)\n",
    "deltaF = 1/T  #frequency steps\n",
    "nf = int(np.floor(nsamp/2)) #number of frequencies you can estimate is 1/2 the number of samples.\n",
    "                            #I used floor just in case nsamp is odd. \n",
    "f_n = np.arange(0,nf)*deltaF # the frequencies resolved by the fft \n",
    "\n",
    "for j in range(5):\n",
    "    tempf = fft(c_eeg[:,j*nsamps:(j+1)*nsamps])\n",
    "    amplitude = 2*np.abs(tempf)/nsamps\n",
    "    amplitude_avg = np.mean(amplitude,axis = 0)\n",
    "    plt.plot(f_n[0:5],amplitude_avg[0:5])\n",
    "\n",
    "plt.legend(('-100','100','300','500','700'))\n",
    "plt.title(channelnames[channelno])"
   ]
  },
  {
   "cell_type": "markdown",
   "metadata": {},
   "source": [
    "## Quantifying the ERP "
   ]
  },
  {
   "cell_type": "code",
   "execution_count": null,
   "metadata": {},
   "outputs": [],
   "source": [
    "erp_target = np.mean(eeg[(goodtrials == 1)&(blocktarget > 0),:,:],axis =0)\n",
    "erp_standard = np.mean(eeg[(goodtrials == 1)&(blocktarget == 0),:,:],axis =0)\n",
    "plt.plot(eeg_time,erp_target[12,:],'r')\n",
    "plt.plot(eeg_time,erp_standard[12,:],'b')\n",
    "plt.title('Channel '+channelnames[12])\n",
    "plt.xlabel('Time (msec)')\n",
    "plt.ylabel('Potential (volts)')\n",
    "plt.grid()\n",
    "plt.show()"
   ]
  },
  {
   "cell_type": "code",
   "execution_count": null,
   "metadata": {},
   "outputs": [],
   "source": [
    "## Lets take care of the random number genearator properly. \n",
    "rng = np.random.default_rng(1234)  # The seed can be changed to make a new randomization\n",
    "###\n",
    "target_index = np.where(blocktarget > 0)[0]  #notice i had to take the first item from the output to np.where.  This is because where returns it in a list. \n",
    "standard_index = np.where(blocktarget == 0)[0] \n",
    "rand_standards = rng.permutation(standard_index)\n",
    "ntargets = len(target_index)\n",
    "erp_target = np.mean(eeg[target_index,:,:],axis =0)\n",
    "erp_standard = np.mean(eeg[rand_standards[0:ntargets],:,:],axis =0)\n",
    "plt.plot(eeg_time,erp_target[12,:],'r')\n",
    "plt.plot(eeg_time,erp_standard[12,:],'b')\n",
    "plt.title('Channel '+channelnames[12])\n",
    "plt.xlabel('Time (msec)')\n",
    "plt.ylabel('Potential (volts)')\n",
    "plt.grid()\n",
    "plt.show()"
   ]
  },
  {
   "cell_type": "code",
   "execution_count": null,
   "metadata": {},
   "outputs": [],
   "source": [
    "for j in target_index:\n",
    "    plt.plot(eeg_time,eeg[j,12,:],'r')\n",
    "plt.title('Channel '+channelnames[12])\n",
    "plt.xlabel('Time (msec)')\n",
    "plt.ylabel('Potential (volts)')\n",
    "plt.grid()\n",
    "plt.show()"
   ]
  }
 ],
 "metadata": {
  "kernelspec": {
   "display_name": "Python 3.9.12 ('eeg')",
   "language": "python",
   "name": "python3"
  },
  "language_info": {
   "codemirror_mode": {
    "name": "ipython",
    "version": 3
   },
   "file_extension": ".py",
   "mimetype": "text/x-python",
   "name": "python",
   "nbconvert_exporter": "python",
   "pygments_lexer": "ipython3",
   "version": "3.9.12"
  },
  "orig_nbformat": 4,
  "vscode": {
   "interpreter": {
    "hash": "865db03388ba9bb0c3ffa1f5a9ec6862d804daa515edd12d6b924569723c412d"
   }
  }
 },
 "nbformat": 4,
 "nbformat_minor": 2
}
