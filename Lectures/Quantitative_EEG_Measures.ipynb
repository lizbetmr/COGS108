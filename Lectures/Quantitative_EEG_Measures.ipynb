{
 "cells": [
  {
   "cell_type": "markdown",
   "metadata": {},
   "source": [
    "# Quantitative Measures from ERP signals \n",
    "\n",
    "### This tutorial completes our discussion of extracting features from EEG experiments for building relationships with data. \n",
    "\n",
    "### We will come back to these EEG measurements when we learn about classifiers.  \n"
   ]
  },
  {
   "cell_type": "markdown",
   "metadata": {},
   "source": [
    "## Target Detection Experiment \n",
    "\n",
    "### These data were extracted from the ERP CORE (https://osf.io/thsqg/wiki/home/).  \n",
    "\n",
    "### These are data from the experiment, **Active Visual Oddball P3**\n",
    "\n",
    "### Some details of the experiment - \n",
    "*   The stimulus consists of the letters A, B, C, D, E\n",
    "*   In any block, one of the 5 letters was designated the \"target\" with a response with one hand, while the others were designated \"standards\" with response with the other hand. \n",
    "*   The probability of any letter appearing is 0.2.  \n",
    "*   The probability of a target appearing is 0.2 "
   ]
  },
  {
   "cell_type": "markdown",
   "metadata": {},
   "source": [
    "#### Load modules that we need "
   ]
  },
  {
   "cell_type": "code",
   "execution_count": null,
   "metadata": {},
   "outputs": [],
   "source": [
    "import numpy as np \n",
    "from matplotlib import pyplot as plt\n",
    "from hdf5storage import loadmat, savemat \n",
    "from scipy.fftpack import fft\n",
    "from scipy import signal  #THIS IS NEW!!!"
   ]
  },
  {
   "cell_type": "code",
   "execution_count": null,
   "metadata": {},
   "outputs": [],
   "source": [
    "data = loadmat('../Exercises/data/1_P3.mat')"
   ]
  },
  {
   "cell_type": "code",
   "execution_count": null,
   "metadata": {},
   "outputs": [],
   "source": [
    "blocktarget = data['blocktarget']\n",
    "channelnames = data['channelnames']\n",
    "eeg = data['eeg']\n",
    "eeg_time = data['eeg_time']\n",
    "goodtrials = data['goodtrials']\n",
    "nchannels = data['nchannels']\n",
    "ntrials = data['ntrials']\n",
    "response = data['response']\n",
    "responsetime = data['responsetime']\n",
    "samplingrate = data['samplingrate']\n",
    "stimulus = data['stimulus']\n",
    "target = data['target']"
   ]
  },
  {
   "cell_type": "code",
   "execution_count": null,
   "metadata": {},
   "outputs": [],
   "source": [
    "#i like to work in microvolts\n",
    "eeg = eeg*10**6"
   ]
  },
  {
   "cell_type": "markdown",
   "metadata": {},
   "source": [
    "## README \n",
    "\n",
    "### The information about the datafiles in an experiment is normally placed in a README file. \n",
    "### For convenience I am going to place that information here instead.\n",
    "\n",
    "###  This data was obtained from the archive ERP CORE and reorganized for this class. \n",
    "###  Each file contains the data of one participant, indicated in the filename. \n",
    "###  The variables contained here are \n",
    "\n",
    "*   `ntrials` - number of trials in the experiment \n",
    "*   `nchannels` - number of EEG channels \n",
    "*   `samplingrate` - number of samples of EEG in per second\n",
    "*   `eeg` - eegdata of the experiment.  of dimensions, ntrials x nchannels x ntimepoints.  The EEG is provided in units of volts. \n",
    "*   `eeg_time` - the time relative to *stimulus onset* in each EEG observation.\n",
    "*   `channelnames` - the name of the EEG channels indicating where it is located.    \n",
    "*   `stimulus` - the stimulus presented on each good trial, 1 = A, 2 = B, 3 = C, 4 = D, 5 = E \n",
    "*   `target` - the target stimulus on each good trial 1 = A, 2 = B, 3 = C, 4 = D, 5 = E\n",
    "*   `blocktarget` - indicates which trial had the target on each block, 1 if a target 0 if not a target. \n",
    "*   `response` - variable indicating the response accuracy 1 = correct, -1 = incorrect, 0 = no response,\n",
    "*   `responsetime` - time after stimulus onset when the subject provided a response. \n",
    "*   `goodtrials` - vector with value 1 if the trial had a response, 0 if no response or multiple responses.   \n"
   ]
  },
  {
   "cell_type": "markdown",
   "metadata": {},
   "source": [
    "#### Plot a single channel (Pz) over Parietal Cortex "
   ]
  },
  {
   "cell_type": "code",
   "execution_count": null,
   "metadata": {},
   "outputs": [],
   "source": [
    "plt.plot(eeg_time,eeg[0,12,:])\n",
    "plt.title('Channel '+channelnames[12])\n",
    "plt.grid()\n",
    "plt.show()"
   ]
  },
  {
   "cell_type": "code",
   "execution_count": null,
   "metadata": {},
   "outputs": [],
   "source": [
    "channel = 12 \n",
    "trial = 0\n",
    "epoch = np.squeeze(eeg[trial,channel,:])\n",
    "T = 1  #duration of the time series \n",
    "deltaf = 1/T # frequency resolution \n",
    "nsamp = len(epoch)#number of samples \n",
    "nf = int(nsamp/2) #highest frequency is 1/2 \n",
    "f = np.arange(0,nf)*deltaf #steps in frequency \n",
    "fft_epoch = fft(epoch) # take the fft, tell it to do it over the time dimension \n",
    "amplitude = 2*np.abs(fft_epoch)/nsamp/deltaf #compute amplitude in units of microvolts/hz "
   ]
  },
  {
   "cell_type": "markdown",
   "metadata": {},
   "source": [
    "#### Plot the amplitude spectrum of the one channel and one trial shown above "
   ]
  },
  {
   "cell_type": "code",
   "execution_count": null,
   "metadata": {},
   "outputs": [],
   "source": [
    " \n",
    "plt.plot(f[range(nf)],amplitude[range(nf)])\n",
    "plt.grid()\n",
    "plt.xlabel('Frequency (Hz)')\n",
    "plt.ylabel('Amplitude (microvolts/Hz)')\n",
    "plt.show()\n"
   ]
  },
  {
   "cell_type": "code",
   "execution_count": null,
   "metadata": {},
   "outputs": [],
   "source": [
    "maxf = 40\n",
    "maxbin = int(maxf/deltaf)\n",
    "plt.plot(f[range(maxbin)],amplitude[range(maxbin)])\n",
    "plt.grid()\n",
    "plt.xlabel('Frequency (Hz)')\n",
    "plt.ylabel('Amplitude (microvolts/Hz)')\n",
    "plt.show()"
   ]
  },
  {
   "cell_type": "markdown",
   "metadata": {},
   "source": [
    "# Spectrogram \n",
    "\n",
    "![SPEECH](img/spectrogram.png)\n",
    "\n",
    "#### The spectrogram is an analysis that looks at the evolution of the amplitude spectrum over time.  \n",
    "#### The spectrogram is widely used to understand speech and other sound signals.  \n",
    "#### Here we will look at the `spectrogram` function in the scipy.signal module"
   ]
  },
  {
   "cell_type": "code",
   "execution_count": null,
   "metadata": {},
   "outputs": [],
   "source": [
    "[f,t,amplitude_tf] = signal.spectrogram(epoch,fs = samplingrate,window = range(32), mode = 'magnitude')\n",
    "plt.figure(figsize=(12,12))\n",
    "plt.imshow(amplitude_tf,aspect = 'auto',origin='lower',extent = [0,t[8],0,f[16]])\n",
    "plt.show()"
   ]
  },
  {
   "cell_type": "code",
   "execution_count": null,
   "metadata": {},
   "outputs": [],
   "source": [
    "plt.figure(figsize=(12,12))\n",
    "plt.imshow(np.log2(amplitude_tf[range(6),:]),aspect = 'auto',origin='lower',extent = [-0.2,0.8,0,f[6]],cmap = 'jet')\n",
    "plt.colorbar()\n",
    "plt.show()"
   ]
  },
  {
   "cell_type": "markdown",
   "metadata": {},
   "source": [
    "#### The plot above shows the evolution of the amplitude spectrum over the trial. \n",
    "#### I used a log 2 scale, so a difference of 1 means double.   "
   ]
  },
  {
   "cell_type": "markdown",
   "metadata": {},
   "source": [
    "#### While the image plot is pretty, you can get a more quantitative feel by plotting how amplitude evolves over time "
   ]
  },
  {
   "cell_type": "code",
   "execution_count": null,
   "metadata": {},
   "outputs": [],
   "source": [
    "for j in range(1,7,1): \n",
    "    plt.plot(1000*t+eeg_time[0],amplitude_tf[j,:])\n",
    "plt.xlabel('Time')\n",
    "plt.ylabel('Amplitude (microvolts/Hz)')\n",
    "plt.legend(f[1:7])\n"
   ]
  }
 ],
 "metadata": {
  "kernelspec": {
   "display_name": "Python 3.9.12 ('eeg')",
   "language": "python",
   "name": "python3"
  },
  "language_info": {
   "codemirror_mode": {
    "name": "ipython",
    "version": 3
   },
   "file_extension": ".py",
   "mimetype": "text/x-python",
   "name": "python",
   "nbconvert_exporter": "python",
   "pygments_lexer": "ipython3",
   "version": "3.9.12"
  },
  "orig_nbformat": 4,
  "vscode": {
   "interpreter": {
    "hash": "865db03388ba9bb0c3ffa1f5a9ec6862d804daa515edd12d6b924569723c412d"
   }
  }
 },
 "nbformat": 4,
 "nbformat_minor": 2
}
