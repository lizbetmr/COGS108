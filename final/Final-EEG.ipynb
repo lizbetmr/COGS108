{
 "cells": [
  {
   "cell_type": "markdown",
   "metadata": {},
   "source": [
    "# Final Exam (Part 2) - EEG analysis \n",
    "\n",
    "### For this part of the final exam we will make use of the techniques we learned in filtering of EEG time series and FFT analysis of amplitude in different frequencies to develop single-trial classifiers.  "
   ]
  },
  {
   "cell_type": "markdown",
   "metadata": {},
   "source": [
    "### The first set of problems are focused on P300 detection and identification on single trials. We will make use of the data file, '2_P3.mat'\n",
    "\n",
    "## README \n",
    "\n",
    "### The information about the datafiles in an experiment is normally placed in a README file. \n",
    "### For convenience I am going to place that information here instead.\n",
    "\n",
    "###  This data was obtained from the archive ERP CORE and reorganized for this class. \n",
    "###  Each file contains the data of one participant, indicated in the filename. \n",
    "###  The variables contained here are \n",
    "\n",
    "*   `ntrials` - number of trials in the experiment \n",
    "*   `nchannels` - number of EEG channels \n",
    "*   `samplingrate` - number of samples of EEG in per second\n",
    "*   `eeg` - eegdata of the experiment.  of dimensions, ntrials x nchannels x ntimepoints.  The EEG is provided in units of volts. \n",
    "*   `eeg_time` - the time relative to *stimulus onset* in each EEG observation.\n",
    "*   `channelnames` - the name of the EEG channels indicating where it is located.    \n",
    "*   `stimulus` - the stimulus presented on each good trial, 1 = A, 2 = B, 3 = C, 4 = D, 5 = E \n",
    "*   `target` - the target stimulus on each good trial 1 = A, 2 = B, 3 = C, 4 = D, 5 = E\n",
    "*   `blocktarget` - indicates which trial had the target on each block, 1 if a target 0 if not a target. \n",
    "*   `response` - variable indicating the response accuracy 1 = correct, -1 = incorrect, 0 = no response,\n",
    "*   `responsetime` - time after stimulus onset when the subject provided a response. \n",
    "*   `goodtrials` - vector with value 1 if the trial had a response, 0 if no response or multiple responses.  "
   ]
  },
  {
   "cell_type": "code",
   "execution_count": 1,
   "metadata": {},
   "outputs": [],
   "source": [
    "from hdf5storage import loadmat\n",
    "import numpy as np \n",
    "from matplotlib import pyplot as plt \n",
    "from eeg import makefilter\n",
    "from scipy import signal"
   ]
  },
  {
   "cell_type": "code",
   "execution_count": 2,
   "metadata": {},
   "outputs": [],
   "source": [
    "data = loadmat('2_P3.mat')\n",
    "blocktarget = data['blocktarget']\n",
    "channelnames = data['channelnames']\n",
    "eeg = data['eeg']\n",
    "eeg_time = data['eeg_time']\n",
    "goodtrials = data['goodtrials']\n",
    "nchannels = data['nchannels']\n",
    "ntrials = data['ntrials']\n",
    "response = data['response']\n",
    "responsetime = data['responsetime']\n",
    "samplingrate = data['samplingrate']\n",
    "stimulus = data['stimulus']\n",
    "target = data['target']\n",
    "eeg = eeg*10**6"
   ]
  },
  {
   "cell_type": "markdown",
   "metadata": {},
   "source": [
    "#### 1. Make a filter and low-pass filter the entire EEG data to only keep EEG signals below fp = 3.5, with a hard stop at fs = 6. Make a plot of the filtered data (all trials) at channel Pz drawing the targets and standards in different colors. (Hint: Your plot will be much easier to see if you plot the standards first) "
   ]
  },
  {
   "cell_type": "code",
   "execution_count": null,
   "metadata": {},
   "outputs": [],
   "source": []
  },
  {
   "cell_type": "code",
   "execution_count": null,
   "metadata": {},
   "outputs": [],
   "source": []
  },
  {
   "cell_type": "markdown",
   "metadata": {},
   "source": [
    "#### 2. At each time point, use LDA to classify the EEG as standard or target. On the same graph, Make a plot of the fraction of targets detected versus time (hits), and the fraction of standard falsely labeled as targets (false alarms).  "
   ]
  },
  {
   "cell_type": "code",
   "execution_count": null,
   "metadata": {},
   "outputs": [],
   "source": []
  },
  {
   "cell_type": "markdown",
   "metadata": {},
   "source": [
    "### The second part of this exam involves using spectral analysis to estimate how individuals are deploying covert attention.  This has applications both in cognitive neuroscience experiments (to assess how a participant is deploying attention) and in Brain-Computer Interfaces.  \n",
    "\n",
    "### The data set provided in the file covertattention.mat is from an experiment where the subject is asked to deploy attention to one of 6 angular positions in a circle (30,90,150,210,270,330) and discriminate a briefly flashed stimulus at that location.  Deploying attention is necessary to perform the task accurately, and we will analyze the interval between the cue and target onset, when attention is deployed.  \n",
    "\n",
    "#### The data file ia called covertattention.mat. The following code will load the file and extract the variables of interest.  "
   ]
  },
  {
   "cell_type": "code",
   "execution_count": 3,
   "metadata": {},
   "outputs": [
    {
     "data": {
      "text/plain": [
       "dict_keys(['angle', 'angle_labels', 'channels', 'eeg', 'idx2000', 'sr'])"
      ]
     },
     "execution_count": 3,
     "metadata": {},
     "output_type": "execute_result"
    }
   ],
   "source": [
    "x = loadmat('covertattention.mat')\n",
    "x.keys()"
   ]
  },
  {
   "cell_type": "code",
   "execution_count": 4,
   "metadata": {},
   "outputs": [],
   "source": [
    "angle = x['angle'][0] # index to the angle of attentional deployment. \n",
    "angle_labels = x['angle_labels'][0] # the 6 angles used in the experiment\n",
    "y = x['channels'][0] #EEG channel names\n",
    "channelnames = list() # some cleaning up\n",
    "for j in range(62):\n",
    "    channelnames.append(y[j][0])\n",
    "eeg = x['eeg'] #eeg data \n",
    "ntrials = np.shape(eeg)[0]\n",
    "nchannels = np.shape(eeg)[1]\n",
    "samplingrate = x['sr'] #sampling rate "
   ]
  },
  {
   "cell_type": "markdown",
   "metadata": {},
   "source": [
    "###  The variables contained here are \n",
    "\n",
    "*   `ntrials` - number of trials in the experiment \n",
    "*   `nchannels` - number of EEG channels \n",
    "*   `samplingrate` - number of samples of EEG in per second\n",
    "*   `eeg` - eegdata of the experiment.  of dimensions, ntrials x nchannels x ntimepoints.  The EEG is provided in units of volts. \n",
    "*   `channelnames` - the name of the EEG channels indicating where it is located.    \n",
    "*   `angle` - a numerical index to the angle to which attention is directed by a cue at the start of the trial, 0 = 30, 2 = 90, 3 = 150, 4 = 210, 5 = 270, 6 = 330\n",
    "*   `angle_labels` - the angle in degrees corresponding to each index.   "
   ]
  },
  {
   "cell_type": "markdown",
   "metadata": {},
   "source": [
    "#### 3. Use the FFT to compute the amplitude spectrum of each channel on each trial using the 1 second prior to the onset of the target (samples 300 to 500) "
   ]
  },
  {
   "cell_type": "code",
   "execution_count": null,
   "metadata": {},
   "outputs": [],
   "source": []
  },
  {
   "cell_type": "markdown",
   "metadata": {},
   "source": [
    "#### 4. Use LDA to classify the angle at which attention is deployed at each frequency from 0 to 30 Hz.  Only use the channels over occipital (O1, Oz, O2) and parietal/occipital (PO3-PO10) indicated in this list. \n",
    "#### `channels = list([16,24,54,55,56,57,58,59,60,61])`\n",
    "#### Make a plot of Accuracy in 5-fold cross validation versus frequency. Indicate chance performance by a horizontal dashed line.   "
   ]
  },
  {
   "cell_type": "code",
   "execution_count": null,
   "metadata": {},
   "outputs": [],
   "source": []
  }
 ],
 "metadata": {
  "kernelspec": {
   "display_name": "Python 3.9.12 ('eeg')",
   "language": "python",
   "name": "python3"
  },
  "language_info": {
   "codemirror_mode": {
    "name": "ipython",
    "version": 3
   },
   "file_extension": ".py",
   "mimetype": "text/x-python",
   "name": "python",
   "nbconvert_exporter": "python",
   "pygments_lexer": "ipython3",
   "version": "3.9.12"
  },
  "orig_nbformat": 4,
  "vscode": {
   "interpreter": {
    "hash": "865db03388ba9bb0c3ffa1f5a9ec6862d804daa515edd12d6b924569723c412d"
   }
  }
 },
 "nbformat": 4,
 "nbformat_minor": 2
}
