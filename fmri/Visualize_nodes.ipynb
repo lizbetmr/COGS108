{
 "cells": [
  {
   "cell_type": "markdown",
   "metadata": {},
   "source": [
    "# Visualizing the brain with nilearn "
   ]
  },
  {
   "cell_type": "markdown",
   "metadata": {},
   "source": [
    "#### Load modules needed "
   ]
  },
  {
   "cell_type": "code",
   "execution_count": null,
   "metadata": {},
   "outputs": [],
   "source": [
    "import numpy as np\n",
    "from nilearn import plotting,datasets\n",
    "\n"
   ]
  },
  {
   "cell_type": "markdown",
   "metadata": {},
   "source": [
    "#### Load the regions npy file.  This file contains the labels for each ROI (Region Of Interest) in the brain from a multimodel parcellation described in Glasser et al., 2016, in particular Table 1 in the Supplementary Information.  "
   ]
  },
  {
   "cell_type": "code",
   "execution_count": null,
   "metadata": {},
   "outputs": [],
   "source": [
    "regions = np.load('regions.npy') # this is the file \n",
    "roi_names = regions[:,0] # these are the names of each of 360 roi from the parcellation.\n",
    "network_names = regions[:,1] # these are the networks each roi \"belongs\" to\n",
    "networks = np.unique(regions[:,1]) # these are the unique network names \n"
   ]
  },
  {
   "cell_type": "markdown",
   "metadata": {},
   "source": [
    "#### Load the hcp atlas file.  This file provides a mapping between the 360 roi and the fsaverage (FreeSurfer Average) brain.  fsaverage is the average of 40 brains of healthy individuals.  "
   ]
  },
  {
   "cell_type": "code",
   "execution_count": null,
   "metadata": {},
   "outputs": [],
   "source": [
    "atlas = dict(np.load('hcp_atlas.npz'))\n",
    "fsaverage = datasets.fetch_surf_fsaverage()"
   ]
  },
  {
   "cell_type": "markdown",
   "metadata": {},
   "source": [
    "#### Here i make an example of plotting the location of one ROI in both hemispheres.  "
   ]
  },
  {
   "cell_type": "code",
   "execution_count": null,
   "metadata": {},
   "outputs": [],
   "source": [
    "roi = 3 #i chose roi = 3\n",
    "node_label = np.zeros(360) #I made a variable to plot on the brain\n",
    "node_label[roi] = 1 #Right Hemisphere node\n",
    "node_label[roi+180] = 1 #symmetric Left Hemisphere node.  Always add 180 to get the matching brain region. \n"
   ]
  },
  {
   "cell_type": "code",
   "execution_count": null,
   "metadata": {},
   "outputs": [],
   "source": [
    "surf_label = node_label[atlas['labels_R']] ## This maps the 360 values onto every voxel on the ROI in the brain.  \n",
    "#plot with realistic brain \n",
    "plotting.view_surf(fsaverage['pial_right'],surf_label,vmax =1,symmetric_cmap = False,title = str(roi_names[roi]),black_bg = True, cmap = 'jet')\n",
    "#plot with inflated brain \n",
    "#plotting.view_surf(fsaverage['infl_right'],surf_label,vmax =1,symmetric_cmap = False,title = str(roi_names[roi]),black_bg = True, cmap = 'jet')\n"
   ]
  },
  {
   "cell_type": "code",
   "execution_count": null,
   "metadata": {},
   "outputs": [],
   "source": [
    "surf_label = node_label[atlas['labels_L']] ## This maps the 360 values onto every voxel on the ROI in the brain.  \n",
    "#plotting with inflated brain\n",
    "plotting.view_surf(fsaverage['pial_left'],surf_label,vmax =1,symmetric_cmap = False,cmap = 'jet',title = str(roi_names[roi+180]),black_bg = True)\n",
    "\n",
    "#plotting with inflated brain \n",
    "#plotting.view_surf(fsaverage['infl_left'],surf_label,vmax =1,symmetric_cmap = False,cmap = 'jet',title = str(roi_names[roi+180]),black_bg = True)\n",
    "\n"
   ]
  },
  {
   "cell_type": "markdown",
   "metadata": {},
   "source": [
    "#### Here I make an example of plotting one of the networks. "
   ]
  },
  {
   "cell_type": "code",
   "execution_count": null,
   "metadata": {},
   "outputs": [],
   "source": [
    "nid = 3 # I chose network to visualize \n",
    "network_label = np.zeros(360) ## e\n",
    "network_label[network_names == networks[nid]] = 1\n",
    "  "
   ]
  },
  {
   "cell_type": "code",
   "execution_count": null,
   "metadata": {},
   "outputs": [],
   "source": [
    "surf_label = network_label[atlas['labels_L']] ## This maps the 360 values onto every voxel on the ROI in the brain.\n",
    "plotting.view_surf(fsaverage['pial_left'],surf_label,vmax =1,symmetric_cmap = False,cmap = 'jet',title = networks[nid],black_bg = True)\n",
    "\n",
    " "
   ]
  },
  {
   "cell_type": "code",
   "execution_count": null,
   "metadata": {},
   "outputs": [],
   "source": [
    "surf_label = network_label[atlas['labels_R']] ## This maps the 360 values onto every voxel on the ROI in the brain. \n",
    "plotting.view_surf(fsaverage['pial_right'],surf_label,vmax =1,symmetric_cmap = False,cmap = 'jet',title = networks[nid],black_bg = True)\n"
   ]
  }
 ],
 "metadata": {
  "kernelspec": {
   "display_name": "Python 3.9.12 ('fmri')",
   "language": "python",
   "name": "python3"
  },
  "language_info": {
   "codemirror_mode": {
    "name": "ipython",
    "version": 3
   },
   "file_extension": ".py",
   "mimetype": "text/x-python",
   "name": "python",
   "nbconvert_exporter": "python",
   "pygments_lexer": "ipython3",
   "version": "3.9.12"
  },
  "orig_nbformat": 4,
  "vscode": {
   "interpreter": {
    "hash": "bb12961ae35e1f2bf7290dfae436ae47266196d96aa8209b8ac7c43d65127139"
   }
  }
 },
 "nbformat": 4,
 "nbformat_minor": 2
}
