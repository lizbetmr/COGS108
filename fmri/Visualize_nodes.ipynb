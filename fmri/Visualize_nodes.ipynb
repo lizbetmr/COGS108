{
 "cells": [
  {
   "cell_type": "markdown",
   "metadata": {},
   "source": [
    "# Visualizing the brain with nilearn \n",
    "\n",
    "### This short tutorial introduces the structure of the hcp data set, in terms of the anatomy of the brain.  \n",
    "### The program makes use of several files, \n",
    "* #### regions.npy - contains the region labels for the 360 regions in the  This file contains the labels for each ROI (Region Of Interest) in the brain from a multimodel parcellation described in Glasser et al., 2016, in particular Table 1 in the Supplementary Information.  \n",
    "* #### hcp_atlas.npz - contains a mapping between the 360 regions and the surface of the fsaverage brain. fsaverage is the average of 40 brains of healthy individuals. "
   ]
  },
  {
   "cell_type": "markdown",
   "metadata": {},
   "source": [
    "#### Load modules needed "
   ]
  },
  {
   "cell_type": "code",
   "execution_count": null,
   "metadata": {},
   "outputs": [],
   "source": [
    "import numpy as np\n",
    "from nilearn import plotting,datasets"
   ]
  },
  {
   "cell_type": "code",
   "execution_count": null,
   "metadata": {},
   "outputs": [],
   "source": [
    "#IF YOU MOVED THE PROGRAMS INTO THE TOP LEVEL OF hcp_task\n",
    "#datapath = './'\n",
    "hcppath = '/home/ramesh/Teaching/classdata/fmri/hcp_task/'"
   ]
  },
  {
   "cell_type": "markdown",
   "metadata": {},
   "source": [
    "#### Load the regions. npy file.  "
   ]
  },
  {
   "cell_type": "code",
   "execution_count": null,
   "metadata": {},
   "outputs": [],
   "source": [
    "regions = np.load(hcppath+'regions.npy') # this is the file in .npy format. This format has only one variable in the file.   \n",
    "roi_names = regions[:,0] # these are the names of each of 360 roi from the parcellation.\n",
    "network_names = regions[:,1] # these are the networks each roi \"belongs\" to\n",
    "networks = np.unique(regions[:,1]) # these are the unique network names \n"
   ]
  },
  {
   "cell_type": "markdown",
   "metadata": {},
   "source": [
    "#### Load the hcp atlas file.  "
   ]
  },
  {
   "cell_type": "code",
   "execution_count": null,
   "metadata": {},
   "outputs": [],
   "source": [
    "atlas = dict(np.load(hcppath+'hcp_atlas.npz'))\n",
    "fsaverage = datasets.fetch_surf_fsaverage()"
   ]
  },
  {
   "cell_type": "markdown",
   "metadata": {},
   "source": [
    "### PLOTTING ON THE BRAIN USING `nilearn`\n",
    "\n",
    "#### There are two key steps to visualize data on the brain using nilearn \n",
    "\n",
    "#### Step 1.  Map the data onto the brain.  Assuming you have some data `node_data` that has dimension 360 with one value on each node of the brain. We need to transfrom this into surface face data `surf_data`.  For each of 360 rois this will map the 1 value on each r01 to every pixel on the brain surface in that roi.  \n",
    "\n",
    "`surf_data = node_data[atlas[labels]]`\n",
    "\n",
    "#### labels can take on the values \n",
    "* #### labels_L - left hemisphere labels\n",
    "* #### labels_R - right hemisphere labels.  \n",
    "\n",
    "#### Step 2.  visualize the values on the surface.  \n",
    "\n",
    "`plotting.view_surf(fsaverage[brain_view],surf_data,vmax = a, symmetric_cmap = False, title = str(roi_names[roi]),black_bg = True, cmap = 'jet')`\n",
    "\n",
    "* #### fsaverage - the fsaverage brain mesh.  There are 4 possible values of brain_view, 'pial_left' or 'infl_left' and 'pial_right' or 'infl_right'\n",
    "* #### vmax = a, tells it the highest value for the colormap is`a`\n",
    "* #### symmetric_cmap you can decide whether you want a symmetric colormap from [-a a] by setting symmetric_cmap = `True `or `False`\n",
    "* #### cmap sets the colormap. Only has an effect when symmetric_cmap is false.  Otherwise use default.   "
   ]
  },
  {
   "cell_type": "markdown",
   "metadata": {},
   "source": [
    "### PLOTTING ROIs\n",
    "#### Here i make an example of plotting the location of one ROI in both hemispheres.  "
   ]
  },
  {
   "cell_type": "code",
   "execution_count": null,
   "metadata": {},
   "outputs": [],
   "source": [
    "roi = 3 #i chose roi = 3\n",
    "node_label = np.zeros(360) #I made a variable to plot on the brain\n",
    "node_label[roi] = 1 #Right Hemisphere node\n",
    "node_label[roi+180] = 1 #symmetric Left Hemisphere node.  Always add 180 to get the matching brain region. \n"
   ]
  },
  {
   "cell_type": "code",
   "execution_count": null,
   "metadata": {},
   "outputs": [],
   "source": [
    "surf_label = node_label[atlas['labels_R']] ## This maps the 360 values onto every voxel on the ROI in the brain.  \n",
    "#plot with realistic brain \n",
    "plotting.view_surf(fsaverage['pial_right'],surf_label,vmax =1,symmetric_cmap = False,title = str(roi_names[roi]),black_bg = True, cmap = 'jet')\n",
    "#plot with inflated brain \n",
    "#plotting.view_surf(fsaverage['infl_right'],surf_label,vmax =1,symmetric_cmap = False,title = str(roi_names[roi]),black_bg = True, cmap = 'jet')\n"
   ]
  },
  {
   "cell_type": "code",
   "execution_count": null,
   "metadata": {},
   "outputs": [],
   "source": [
    "surf_label = node_label[atlas['labels_L']] ## This maps the 360 values onto every voxel on the ROI in the brain.  \n",
    "#plotting with inflated brain\n",
    "plotting.view_surf(fsaverage['pial_left'],surf_label,vmax =1,symmetric_cmap = False,cmap = 'jet',title = str(roi_names[roi+180]),black_bg = True)\n",
    "\n",
    "#plotting with inflated brain \n",
    "#plotting.view_surf(fsaverage['infl_left'],surf_label,vmax =1,symmetric_cmap = False,cmap = 'jet',title = str(roi_names[roi+180]),black_bg = True)\n",
    "\n"
   ]
  },
  {
   "cell_type": "markdown",
   "metadata": {},
   "source": [
    "### Plotting networks \n",
    "#### Here I make an example of plotting one of the networks. "
   ]
  },
  {
   "cell_type": "code",
   "execution_count": null,
   "metadata": {},
   "outputs": [],
   "source": [
    "nid = 3 # I chose network to visualize \n",
    "network_label = np.zeros(360) ## e\n",
    "network_label[network_names == networks[nid]] = 1\n",
    "  "
   ]
  },
  {
   "cell_type": "code",
   "execution_count": null,
   "metadata": {},
   "outputs": [],
   "source": [
    "surf_label = network_label[atlas['labels_L']] ## This maps the 360 values onto every voxel on the ROI in the brain.\n",
    "plotting.view_surf(fsaverage['pial_left'],surf_label,vmax =1,symmetric_cmap = False,cmap = 'jet',title = networks[nid],black_bg = True)\n",
    "\n",
    " "
   ]
  },
  {
   "cell_type": "code",
   "execution_count": null,
   "metadata": {},
   "outputs": [],
   "source": [
    "surf_label = network_label[atlas['labels_R']] ## This maps the 360 values onto every voxel on the ROI in the brain. \n",
    "plotting.view_surf(fsaverage['pial_right'],surf_label,vmax =1,symmetric_cmap = False,cmap = 'jet',title = networks[nid],black_bg = True)\n"
   ]
  },
  {
   "cell_type": "markdown",
   "metadata": {},
   "source": [
    "#### Here is plot all the networks. \n",
    "\n"
   ]
  },
  {
   "cell_type": "code",
   "execution_count": null,
   "metadata": {},
   "outputs": [],
   "source": [
    "network_label = np.zeros(360) ## e\n",
    "for nid in range(12):\n",
    "    network_label[network_names == networks[nid]] = nid\n"
   ]
  },
  {
   "cell_type": "code",
   "execution_count": null,
   "metadata": {},
   "outputs": [],
   "source": [
    "surf_label = network_label[atlas['labels_R']] ## This maps the 360 values onto every voxel on the ROI in the brain. \n",
    "plotting.view_surf(fsaverage['infl_right'],surf_label,vmax =13,symmetric_cmap = False,cmap = 'jet',title = 'all networks',black_bg = True)\n"
   ]
  },
  {
   "cell_type": "code",
   "execution_count": null,
   "metadata": {},
   "outputs": [],
   "source": [
    "surf_label = network_label[atlas['labels_L']] ## This maps the 360 values onto every voxel on the ROI in the brain. \n",
    "plotting.view_surf(fsaverage['infl_left'],surf_label,vmax =13,symmetric_cmap = False,cmap = 'jet',title = 'all networks',black_bg = True)\n"
   ]
  }
 ],
 "metadata": {
  "kernelspec": {
   "display_name": "Python 3.9.12 ('fmri')",
   "language": "python",
   "name": "python3"
  },
  "language_info": {
   "codemirror_mode": {
    "name": "ipython",
    "version": 3
   },
   "file_extension": ".py",
   "mimetype": "text/x-python",
   "name": "python",
   "nbconvert_exporter": "python",
   "pygments_lexer": "ipython3",
   "version": "3.9.12"
  },
  "orig_nbformat": 4,
  "vscode": {
   "interpreter": {
    "hash": "bb12961ae35e1f2bf7290dfae436ae47266196d96aa8209b8ac7c43d65127139"
   }
  }
 },
 "nbformat": 4,
 "nbformat_minor": 2
}
