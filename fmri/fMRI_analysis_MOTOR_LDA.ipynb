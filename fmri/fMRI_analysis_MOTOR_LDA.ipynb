{
 "cells": [
  {
   "cell_type": "markdown",
   "metadata": {},
   "source": [
    "# fMRI analysis and visualization - subject averaged data from the motor task.  \n",
    "\n",
    "#### In this notebook we will do some visualization and analysis of fMRI data which has already been averaged across samples in each participant.\n",
    "\n",
    "#### For this example, I chose the Motor Task from the hcp_task data set.  \n",
    "\n",
    "#### The motor task is a good place to start, because we can use a simple fact to guide us.  Movement of the left side of the body involves activity of the right motor cortex, while movement of the right side of the body involves activity of the left motor cortex.  \n",
    "\n",
    "#### In this example, I have preprocessed the data by averaging together the scans of each experimental condition (type of movement) for each subject, and then provide the data for 100 subjects in one file.\n",
    "\n",
    "#### When each subject's data was averaged by condition, I first removed the mean across all the scans - each subject's data averages to zero.  \n",
    "\n",
    "#### (I made a mistake when creating this file by not saving the fact that each subject average in each condition is based on 64 scans)"
   ]
  },
  {
   "cell_type": "markdown",
   "metadata": {},
   "source": [
    "#### load the the modules needed"
   ]
  },
  {
   "cell_type": "code",
   "execution_count": null,
   "metadata": {},
   "outputs": [],
   "source": [
    "import numpy as np \n",
    "from matplotlib import pyplot as plt \n",
    "from hdf5storage import loadmat, savemat \n",
    "from nilearn import plotting,datasets"
   ]
  },
  {
   "cell_type": "code",
   "execution_count": null,
   "metadata": {},
   "outputs": [],
   "source": [
    "#IF YOU MOVED THE PROGRAMS INTO THE TOP LEVEL OF hcp_task\n",
    "#hcppath = './'\n",
    "#datapath = './processed'\n",
    "#or else write the full path\n",
    "hcppath = '/home/ramesh/Teaching/classdata/fmri/hcp_task/'\n",
    "datapath = hcppath+'processed/'\n"
   ]
  },
  {
   "cell_type": "markdown",
   "metadata": {},
   "source": [
    "#### Load the region labels file, regions.npy"
   ]
  },
  {
   "cell_type": "code",
   "execution_count": null,
   "metadata": {},
   "outputs": [],
   "source": [
    "regions = np.load(hcppath+'regions.npy') # this is the file \n",
    "roi_names = regions[:,0] # these are the names of each of 360 roi from the parcellation.\n",
    "network_names = regions[:,1] # these are the networks each roi \"belongs\" to\n",
    "networks = np.unique(regions[:,1]) # these are the unique network names "
   ]
  },
  {
   "cell_type": "markdown",
   "metadata": {},
   "source": [
    "#### Load the hcp atlas file. "
   ]
  },
  {
   "cell_type": "code",
   "execution_count": null,
   "metadata": {},
   "outputs": [],
   "source": [
    "atlas = dict(np.load(hcppath+'hcp_atlas.npz'))\n",
    "fsaverage = datasets.fetch_surf_fsaverage()"
   ]
  },
  {
   "cell_type": "markdown",
   "metadata": {},
   "source": [
    "#### Load the fMRI data"
   ]
  },
  {
   "cell_type": "code",
   "execution_count": null,
   "metadata": {},
   "outputs": [],
   "source": [
    "data = loadmat(datapath+'MOTOR_fmri_subjectaverage.mat')"
   ]
  },
  {
   "cell_type": "code",
   "execution_count": null,
   "metadata": {},
   "outputs": [],
   "source": [
    "data.keys()"
   ]
  },
  {
   "cell_type": "markdown",
   "metadata": {},
   "source": [
    "#### Extract the data in the dictionary into separate variables"
   ]
  },
  {
   "cell_type": "code",
   "execution_count": null,
   "metadata": {},
   "outputs": [],
   "source": [
    "condition_index = data['condition_index']\n",
    "conditions = data['conditions']\n",
    "fmri = data['fmri']\n",
    "nconditions = data['nconditions']\n",
    "nregions = data['nregions']\n",
    "nsubjects = data['nsubjects']\n",
    "subject = data['subject']\n",
    "task = data['task']"
   ]
  },
  {
   "cell_type": "markdown",
   "metadata": {},
   "source": [
    "## README \n",
    "\n",
    "#### condition_index - index for each data sample, indicating the experimental condition \n",
    "#### conditions - conditions in the experiment \n",
    "#### fmri - fmri data averaged over participants, nregions x (nsubjects x nconditions)\n",
    "#### nconditions - number of conditions\n",
    "#### nregions - number of regions (always 360)\n",
    "#### nsubjects - number of subjects (always 100)\n",
    "#### subject - indexes which subject each average comes from. \n",
    "#### task - which task the data comes from.  "
   ]
  },
  {
   "cell_type": "code",
   "execution_count": null,
   "metadata": {},
   "outputs": [],
   "source": [
    "print(conditions)"
   ]
  },
  {
   "cell_type": "markdown",
   "metadata": {},
   "source": [
    "#### For the MOTOR task \n",
    "* #### 'lf' - left foot, condition_index = 0 \n",
    "* #### 'rf' - right foot, condition_index = 1\n",
    "* #### 'lh' - left hand, condition_index = 2 \n",
    "* #### 'rh' - right hand, condition_index = 3\n",
    "* #### 't' - tongue, condition_index = 4 \n",
    "* #### 'cue' - when the visual cue was presented (no movement), condition_index = 5\n",
    "\n"
   ]
  },
  {
   "cell_type": "markdown",
   "metadata": {},
   "source": [
    "#### 1.  First I'm going to compute some averages by condition. "
   ]
  },
  {
   "cell_type": "code",
   "execution_count": null,
   "metadata": {},
   "outputs": [],
   "source": [
    "avg_fmri = dict()\n",
    "#lh \n",
    "avg_fmri['lh'] = np.mean(fmri[:,condition_index == 0],axis = 1)\n",
    "avg_fmri['rh'] = np.mean(fmri[:,condition_index == 1],axis = 1)\n",
    "avg_fmri['lf'] = np.mean(fmri[:,condition_index == 2],axis = 1)\n",
    "avg_fmri['rf'] = np.mean(fmri[:,condition_index == 3],axis = 1)\n",
    "avg_fmri['t'] = np.mean(fmri[:,condition_index == 4],axis = 1)\n",
    "avg_fmri['cue'] = np.mean(fmri[:,condition_index == 5],axis = 1)\n"
   ]
  },
  {
   "cell_type": "markdown",
   "metadata": {},
   "source": [
    "2. Visualize the data on the brain.  \n",
    "\n",
    "#### To do this, I am going to directly map the \n",
    "\n",
    "`plotting.view_surf(fsaverage['infl_right'],surf_label,symmetric_cmap = True,title = 'lf',black_bg = True)`\n",
    "\n",
    "#### Note that in this version, I chose symmetric_cmap = True.  This is a good default choice.  \n"
   ]
  },
  {
   "cell_type": "code",
   "execution_count": null,
   "metadata": {},
   "outputs": [],
   "source": [
    "plot_condition = 'rf' #select the condition I want to plot \n",
    "surf_label = avg_fmri[plot_condition][atlas['labels_R']] ## This maps the 360 values onto every voxel on the ROI in the brain.  \n",
    "plotting.view_surf(fsaverage['infl_right'],surf_label,symmetric_cmap = True,title = plot_condition,black_bg = True)"
   ]
  },
  {
   "cell_type": "code",
   "execution_count": null,
   "metadata": {},
   "outputs": [],
   "source": [
    "surf_label = avg_fmri[plot_condition][atlas['labels_L']] ## This maps the 360 values onto every voxel on the ROI in the brain.  \n",
    "plotting.view_surf(fsaverage['infl_left'],surf_label,symmetric_cmap = True,title = plot_condition,black_bg = True)"
   ]
  },
  {
   "cell_type": "markdown",
   "metadata": {},
   "source": [
    "### 2. Let's plot the difference between conditions. Before I do that, I am going to z-score the data\n",
    "\n",
    "#### The variables in the experiment are the 360 ROI.   I must make the mean of these variables zero in order to center the data on zero.  "
   ]
  },
  {
   "cell_type": "code",
   "execution_count": null,
   "metadata": {},
   "outputs": [],
   "source": [
    "from scipy.stats import zscore\n",
    "z = zscore(fmri)"
   ]
  },
  {
   "cell_type": "code",
   "execution_count": null,
   "metadata": {},
   "outputs": [],
   "source": [
    "#To comparse left foor to right foot, I see that condition_index is 0, and condition_index is 1.  \n",
    "diff = np.mean((z[:,condition_index == 0]-z[:,condition_index == 1]),axis = 1)\n",
    "plt.figure(figsize = (8,8))\n",
    "#plt.plot(diff)\n",
    "plt.bar(np.arange(180),diff[0:180],color = 'r')\n",
    "plt.bar(np.arange(180,360,1),diff[180:360],color = 'b')\n",
    "plt.xticks(range(0,390,30))\n",
    "plt.legend(('Right Hemisphere','Left Hemisphere'))\n",
    "plt.xlabel('ROI')\n",
    "plt.ylabel('fmri difference (std-units)')\n",
    "plt.grid()"
   ]
  },
  {
   "cell_type": "markdown",
   "metadata": {},
   "source": [
    "### 3. Lets identify the region with the strongest positive and negative difference  "
   ]
  },
  {
   "cell_type": "code",
   "execution_count": null,
   "metadata": {},
   "outputs": [],
   "source": [
    "r1= np.argmax(diff)\n",
    "print(roi_names[r1],network_names[r1])\n",
    "r2 = np.argmin(diff)\n",
    "print(roi_names[r2],network_names[r2])"
   ]
  },
  {
   "cell_type": "markdown",
   "metadata": {},
   "source": [
    "#### Interestingly - Neither of these regions is the primary motor cortex (Area 4)\n",
    "#### Area 5 is part of the superior parietal lobule, and is right next to somatosensory cortex\n"
   ]
  },
  {
   "cell_type": "code",
   "execution_count": null,
   "metadata": {},
   "outputs": [],
   "source": [
    "surf_label = diff[atlas['labels_R']] ## This maps the 360 values onto every voxel on the ROI in the brain.  \n",
    "plotting.view_surf(fsaverage['pial_right'],surf_label,symmetric_cmap = True,title = 'lf-rf',black_bg = True)"
   ]
  },
  {
   "cell_type": "code",
   "execution_count": null,
   "metadata": {},
   "outputs": [],
   "source": [
    "surf_label = diff[atlas['labels_L']] ## This maps the 360 values onto every voxel on the ROI in the brain.  \n",
    "plotting.view_surf(fsaverage['pial_left'],surf_label,symmetric_cmap = True,title = 'lf-rf',black_bg = True)"
   ]
  },
  {
   "cell_type": "markdown",
   "metadata": {},
   "source": [
    "#### Here I identify the 10 regions with largest differences. "
   ]
  },
  {
   "cell_type": "code",
   "execution_count": null,
   "metadata": {},
   "outputs": [],
   "source": [
    "n = 10\n",
    "ordered_index = np.argsort(np.abs(diff)) # sorts into ascending order \n",
    "topn = ordered_index[-n:] #take the last n\n",
    "for j in range(len(topn)):\n",
    "    print(roi_names[topn[j]],network_names[topn[j]])\n"
   ]
  },
  {
   "cell_type": "markdown",
   "metadata": {},
   "source": []
  },
  {
   "cell_type": "code",
   "execution_count": null,
   "metadata": {},
   "outputs": [],
   "source": [
    "from sklearn.discriminant_analysis import LinearDiscriminantAnalysis as LDA\n",
    "z_T = np.transpose(z)\n",
    "from sklearn.model_selection import KFold \n",
    "kf = KFold(n_splits = 5,shuffle = True)\n",
    "errors = 0\n",
    "predictions = np.zeros(np.shape(z_T)[0])\n",
    "probability = np.zeros((len(predictions),nconditions))\n",
    "for train_index, test_index in kf.split(z_T):\n",
    "#    print(\"TRAIN:\", train_index, \"TEST:\", test_index)\n",
    "    data_train = z_T[train_index]\n",
    "    data_test = z_T[test_index]\n",
    "    Label_train= condition_index[train_index] \n",
    "    Label_test = condition_index[test_index]\n",
    "    lda = LDA(n_components=1)\n",
    "    data_model = lda.fit(data_train, Label_train)\n",
    "    predict = lda.predict(data_test)\n",
    "    test = Label_test == predict\n",
    "    errors = errors + sum(~test)\n",
    "    predictions[test_index] = predict\n",
    "    probability[test_index,:] = lda.predict_proba(data_test)\n",
    "errorrate = errors/len(condition_index)\n",
    "print(errorrate)"
   ]
  },
  {
   "cell_type": "markdown",
   "metadata": {},
   "source": [
    "#### Lets compute a confusion matrix"
   ]
  },
  {
   "cell_type": "code",
   "execution_count": null,
   "metadata": {},
   "outputs": [],
   "source": [
    "confusion_matrix = np.zeros((nconditions,nconditions))\n",
    "for j in range(nconditions):\n",
    "    values, counts = np.unique(predictions[condition_index == j],return_counts = True)\n",
    "    confusion_matrix[j,values.astype(int)] = counts\n",
    "print(confusion_matrix)    "
   ]
  },
  {
   "cell_type": "code",
   "execution_count": null,
   "metadata": {},
   "outputs": [],
   "source": [
    "#make a nice plot of the confusion matrix\n",
    "plt.figure(figsize = (8,8))\n",
    "plt.imshow(confusion_matrix,vmin = 0, vmax = 10, cmap = 'jet')\n",
    "plt.xticks(range(6),labels = conditions)\n",
    "plt.yticks(range(6),labels = conditions)\n",
    "plt.xlabel('Predicted Condition')\n",
    "plt.ylabel('Actual Condition')\n",
    "plt.colorbar()"
   ]
  },
  {
   "cell_type": "markdown",
   "metadata": {},
   "source": [
    "#### LDA Analysis.  "
   ]
  },
  {
   "cell_type": "code",
   "execution_count": null,
   "metadata": {},
   "outputs": [],
   "source": [
    "fmri_lda = LDA(n_components=1)\n",
    "fmri_model = fmri_lda.fit(z_T, condition_index)\n",
    "fmri_predict = fmri_lda.transform(z_T)\n",
    "fmri_coef = fmri_lda.coef_"
   ]
  },
  {
   "cell_type": "markdown",
   "metadata": {},
   "source": [
    "#### make a map of the weights.  "
   ]
  },
  {
   "cell_type": "code",
   "execution_count": null,
   "metadata": {},
   "outputs": [],
   "source": [
    "ci = 4 # index for the condition\n",
    "surf_label = fmri_coef[ci,atlas['labels_L']] ## This maps the 360 values onto every voxel on the ROI in the brain.  \n",
    "plotting.view_surf(fsaverage['infl_left'],surf_label,symmetric_cmap = True, title = conditions[ci],black_bg = True, vmax = 20)"
   ]
  },
  {
   "cell_type": "markdown",
   "metadata": {},
   "source": [
    "#### Lets visualize the distribution of outputs of each projection. "
   ]
  },
  {
   "cell_type": "code",
   "execution_count": null,
   "metadata": {},
   "outputs": [],
   "source": [
    "lda_data = fmri_coef@z; #(There is a built in method decision_variable that does this)\n",
    "for j in range(nconditions):\n",
    "    plt.figure(figsize = (6,6))\n",
    "    plt.hist(lda_data[j,condition_index==j])\n",
    "    plt.hist(lda_data[j,condition_index!=j])\n",
    "    plt.legend((conditions[j],'All others'))\n",
    "    plt.show()\n",
    "\n",
    "#plt.hist(test[0,:][condition_index!=0],bins = np.arange(-20,20,1))\n",
    "plt.show()"
   ]
  }
 ],
 "metadata": {
  "kernelspec": {
   "display_name": "Python 3.9.12 ('fmri')",
   "language": "python",
   "name": "python3"
  },
  "language_info": {
   "codemirror_mode": {
    "name": "ipython",
    "version": 3
   },
   "file_extension": ".py",
   "mimetype": "text/x-python",
   "name": "python",
   "nbconvert_exporter": "python",
   "pygments_lexer": "ipython3",
   "version": "3.9.12"
  },
  "orig_nbformat": 4,
  "vscode": {
   "interpreter": {
    "hash": "bb12961ae35e1f2bf7290dfae436ae47266196d96aa8209b8ac7c43d65127139"
   }
  }
 },
 "nbformat": 4,
 "nbformat_minor": 2
}
