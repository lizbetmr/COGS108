{
 "cells": [
  {
   "cell_type": "markdown",
   "metadata": {},
   "source": [
    "# fMRI analysis and visualization - subject averaged data \n",
    "\n",
    "#### In this notebook we will do some visualization and analysis of fMRI data which has already been averaged across participants.\n",
    "\n"
   ]
  },
  {
   "cell_type": "code",
   "execution_count": null,
   "metadata": {},
   "outputs": [],
   "source": [
    "import numpy as np \n",
    "from matplotlib import pyplot as plt \n",
    "from hdf5storage import loadmat, savemat \n",
    "from nilearn import plotting,datasets"
   ]
  },
  {
   "cell_type": "code",
   "execution_count": null,
   "metadata": {},
   "outputs": [],
   "source": [
    "#if you want to keep the code in the github repository\n",
    "datapath = '/home/ramesh/Teaching/data_archive/hcp_task/'\n",
    "#use this if you placed this program in the same location as the data. \n",
    "#datapath = './'\n"
   ]
  },
  {
   "cell_type": "code",
   "execution_count": null,
   "metadata": {},
   "outputs": [],
   "source": [
    "regions = np.load(datapath+'regions.npy') # this is the file \n",
    "roi_names = regions[:,0] # these are the names of each of 360 roi from the parcellation.\n",
    "network_names = regions[:,1] # these are the networks each roi \"belongs\" to\n",
    "networks = np.unique(regions[:,1]) # these are the unique network names "
   ]
  },
  {
   "cell_type": "markdown",
   "metadata": {},
   "source": [
    "#### Load the hcp atlas file.  This file provides a mapping between the 360 roi and the fsaverage (FreeSurfer Average) brain.  fsaverage is the average of 40 brains of healthy individuals.  "
   ]
  },
  {
   "cell_type": "code",
   "execution_count": null,
   "metadata": {},
   "outputs": [],
   "source": [
    "atlas = dict(np.load(datapath+'hcp_atlas.npz'))\n",
    "fsaverage = datasets.fetch_surf_fsaverage()"
   ]
  },
  {
   "cell_type": "code",
   "execution_count": null,
   "metadata": {},
   "outputs": [],
   "source": [
    "data = loadmat(datapath+'SOCIAL_fmri_subjectaverage.mat')"
   ]
  },
  {
   "cell_type": "code",
   "execution_count": null,
   "metadata": {},
   "outputs": [],
   "source": [
    "data.keys()"
   ]
  },
  {
   "cell_type": "code",
   "execution_count": null,
   "metadata": {},
   "outputs": [],
   "source": [
    "condition_index = data['condition_index']\n",
    "conditions = data['conditions']\n",
    "fmri = data['fmri']\n",
    "nconditions = data['nconditions']\n",
    "nregions = data['nregions']\n",
    "nsubjects = data['nsubjects']\n",
    "subject = data['subject']\n",
    "task = data['task']"
   ]
  },
  {
   "cell_type": "markdown",
   "metadata": {},
   "source": [
    "## README \n",
    "\n",
    "#### condition_index - index for each data sample, indicating the experimental condition \n",
    "#### conditions - conditions in the experiment \n",
    "#### fmri - fmri data averaged over participants, nregions x (nsubjects x nconditions)\n",
    "#### nconditions - number of conditions\n",
    "#### nregions - number of regions (always 360)\n",
    "#### nsubjects - number of subjects (always 100)\n",
    "#### subject - indexes which subject each average comes from. \n",
    "#### task - which task the data comes from.  "
   ]
  },
  {
   "cell_type": "code",
   "execution_count": null,
   "metadata": {},
   "outputs": [],
   "source": [
    "print(conditions)"
   ]
  },
  {
   "cell_type": "markdown",
   "metadata": {},
   "source": [
    "#### For the SOCIAL task \n",
    "* #### 'mental' - appearance of social interaction \n",
    "* #### 'rnd' - appears to be random \n",
    "\n"
   ]
  },
  {
   "cell_type": "markdown",
   "metadata": {},
   "source": [
    "#### 1. Compute the average of the data in each condition.  Make a plot on the brain of the average data in each condition.   "
   ]
  },
  {
   "cell_type": "code",
   "execution_count": null,
   "metadata": {},
   "outputs": [],
   "source": [
    "avg_fmri = dict()\n",
    "avg_fmri['mental'] = np.mean(fmri[:,condition_index == 0],axis = 1)\n",
    "avg_fmri['rnd'] = np.mean(fmri[:,condition_index == 1],axis = 1)\n"
   ]
  },
  {
   "cell_type": "markdown",
   "metadata": {},
   "source": [
    "### "
   ]
  },
  {
   "cell_type": "code",
   "execution_count": null,
   "metadata": {},
   "outputs": [],
   "source": [
    "plot_condition = 'rnd'\n",
    "plot_data = avg_fmri[plot_condition]\n",
    "surf_label = plot_data[atlas['labels_R']] ## This maps the 360 values onto every voxel on the ROI in the brain.  \n",
    "plotting.view_surf(fsaverage['infl_right'],surf_label,symmetric_cmap = True,title = plot_condition,black_bg = True)"
   ]
  },
  {
   "cell_type": "code",
   "execution_count": null,
   "metadata": {},
   "outputs": [],
   "source": [
    "surf_label = plot_data[atlas['labels_L']] ## This maps the 360 values onto every voxel on the ROI in the brain.  \n",
    "plotting.view_surf(fsaverage['infl_left'],surf_label,symmetric_cmap = True,title = plot_condition,black_bg = True)"
   ]
  },
  {
   "cell_type": "markdown",
   "metadata": {},
   "source": []
  },
  {
   "cell_type": "code",
   "execution_count": null,
   "metadata": {},
   "outputs": [],
   "source": [
    "plot_condition = 'mental'\n",
    "plot_data = avg_fmri[plot_condition]\n",
    "surf_label = plot_data[atlas['labels_R']] ## This maps the 360 values onto every voxel on the ROI in the brain.  \n",
    "plotting.view_surf(fsaverage['infl_right'],surf_label,symmetric_cmap = True,title = plot_condition,black_bg = True)"
   ]
  },
  {
   "cell_type": "markdown",
   "metadata": {},
   "source": []
  },
  {
   "cell_type": "code",
   "execution_count": null,
   "metadata": {},
   "outputs": [],
   "source": [
    "surf_label = plot_data[atlas['labels_L']] ## This maps the 360 values onto every voxel on the ROI in the brain.  \n",
    "plotting.view_surf(fsaverage['infl_left'],surf_label,symmetric_cmap = True,title = plot_condition,black_bg = True)"
   ]
  },
  {
   "cell_type": "markdown",
   "metadata": {},
   "source": [
    "#### 2.  Standardize the data using z-score, and compute the different between conditions. Make a bar graph of the difference versus roi. Print out the roi_names and network_names of the 5 regions where activity in `mental` is most higher than `rnd`.  Print out the roi_names and network_names of the 5 regions where `rnd` is most higher than `mental`"
   ]
  },
  {
   "cell_type": "code",
   "execution_count": null,
   "metadata": {},
   "outputs": [],
   "source": [
    "from scipy.stats import zscore\n",
    "z = zscore(fmri)\n",
    "#z = zscore(fmri,axis = 0)\n",
    "diff = np.mean((z[:,condition_index == 0]-z[:,condition_index == 1]),axis = 1)"
   ]
  },
  {
   "cell_type": "markdown",
   "metadata": {},
   "source": []
  },
  {
   "cell_type": "code",
   "execution_count": null,
   "metadata": {},
   "outputs": [],
   "source": [
    "plt.figure(figsize = (8,8))\n",
    "plt.bar(np.arange(nregions),diff)\n",
    "plt.xlabel('ROI')\n",
    "plt.ylabel('MENTAL-RANDOM (standard deviation units)')\n",
    "plt.show()"
   ]
  },
  {
   "cell_type": "markdown",
   "metadata": {},
   "source": []
  },
  {
   "cell_type": "code",
   "execution_count": null,
   "metadata": {},
   "outputs": [],
   "source": [
    "difforder = np.argsort(diff)  # python sorting is always ascending.   \n",
    "rndlarge = difforder[0:5] #so the first 5 here are big negative numbers where rnd is bigger than mental\n",
    "mentallarge = difforder[-5:] # the last 5 numbers are big positive numbers where mental is bigger than rnd"
   ]
  },
  {
   "cell_type": "markdown",
   "metadata": {},
   "source": []
  },
  {
   "cell_type": "code",
   "execution_count": null,
   "metadata": {},
   "outputs": [],
   "source": [
    "print('5 regions with mental larger')\n",
    "for j in range(5):\n",
    "    print('ROI: ', roi_names[mentallarge[j]], 'Network: ', network_names[mentallarge[j]])\n",
    "print('5 regions with rnd larger')\n",
    "for j in range(5):\n",
    "    print('ROI: ', roi_names[rndlarge[j]], 'Network: ', network_names[rndlarge[j]])\n"
   ]
  },
  {
   "cell_type": "markdown",
   "metadata": {},
   "source": [
    "#### 3. Make a brain map of the difference between `mental` and `rnd` "
   ]
  },
  {
   "cell_type": "code",
   "execution_count": null,
   "metadata": {},
   "outputs": [],
   "source": [
    "plot_condition = 'mental - rnd'\n",
    "plot_data = diff\n",
    "surf_label = plot_data[atlas['labels_R']] ## This maps the 360 values onto every voxel on the ROI in the brain.  \n",
    "plotting.view_surf(fsaverage['infl_right'],surf_label,symmetric_cmap = True,title = plot_condition,black_bg = True)"
   ]
  },
  {
   "cell_type": "code",
   "execution_count": null,
   "metadata": {},
   "outputs": [],
   "source": [
    "surf_label = plot_data[atlas['labels_L']] ## This maps the 360 values onto every voxel on the ROI in the brain.  \n",
    "plotting.view_surf(fsaverage['infl_left'],surf_label,symmetric_cmap = True,title = plot_condition,black_bg = True)"
   ]
  },
  {
   "cell_type": "markdown",
   "metadata": {},
   "source": [
    "#### 4.  Make a PCA model of the data, and make a bar graph of the difference in loadings between `mental` and `rnd` versus component. Identify and make a brain map of the components which has the highest loadings for `mental` > `'rnd` and the component the highest loadings for `rnd` > `mental` "
   ]
  },
  {
   "cell_type": "code",
   "execution_count": null,
   "metadata": {},
   "outputs": [],
   "source": [
    "from sklearn.decomposition import PCA\n",
    "fmriPCA = PCA()\n",
    "fmriPCA.fit(np.transpose(z))\n",
    "loadings = fmriPCA.transform(np.transpose(z))\n",
    "components = fmriPCA.components_\n",
    "ncomponents = fmriPCA.n_components_\n",
    "percentvariance = 100*fmriPCA.explained_variance_ratio_"
   ]
  },
  {
   "cell_type": "markdown",
   "metadata": {},
   "source": []
  },
  {
   "cell_type": "code",
   "execution_count": null,
   "metadata": {},
   "outputs": [],
   "source": [
    "plt.figure(figsize=(12,8))\n",
    "plt.bar(np.arange(ncomponents),percentvariance)\n",
    "plt.xlabel('Component')\n",
    "plt.ylabel('Percent Variance')\n",
    "plt.show()"
   ]
  },
  {
   "cell_type": "markdown",
   "metadata": {},
   "source": []
  },
  {
   "cell_type": "code",
   "execution_count": null,
   "metadata": {},
   "outputs": [],
   "source": [
    "c_mental = np.mean(loadings[condition_index == 0,:],axis = 0)\n",
    "c_rnd = np.mean(loadings[condition_index == 1,:], axis = 0)\n",
    "c_diff = c_mental-c_rnd\n",
    "plt.bar(np.arange(ncomponents),c_diff)\n",
    "plt.xlabel('Component')\n",
    "plt.ylabel('Mental-Random (sd units)')\n",
    "cmax_mental = np.argmax(c_diff)\n",
    "cmax_rnd = np.argmin(c_diff)"
   ]
  },
  {
   "cell_type": "markdown",
   "metadata": {},
   "source": []
  },
  {
   "cell_type": "code",
   "execution_count": null,
   "metadata": {},
   "outputs": [],
   "source": [
    "surf_label = components[cmax_rnd,:][atlas['labels_R']] ## This maps the 360 values onto every voxel on the ROI in the brain.  \n",
    "plotting.view_surf(fsaverage['infl_right'],surf_label,symmetric_cmap = True,title = 'cmax_rnd',black_bg = True, vmax = 0.2)"
   ]
  },
  {
   "cell_type": "markdown",
   "metadata": {},
   "source": []
  },
  {
   "cell_type": "code",
   "execution_count": null,
   "metadata": {},
   "outputs": [],
   "source": [
    "surf_label = components[cmax_rnd,:][atlas['labels_L']] ## This maps the 360 values onto every voxel on the ROI in the brain.  \n",
    "plotting.view_surf(fsaverage['infl_left'],surf_label,symmetric_cmap = True,title = 'cmax_rnd',black_bg = True, vmax = 0.2)"
   ]
  },
  {
   "cell_type": "markdown",
   "metadata": {},
   "source": []
  },
  {
   "cell_type": "code",
   "execution_count": null,
   "metadata": {},
   "outputs": [],
   "source": [
    "surf_label = components[cmax_mental,:][atlas['labels_R']] ## This maps the 360 values onto every voxel on the ROI in the brain.  \n",
    "plotting.view_surf(fsaverage['infl_right'],surf_label,symmetric_cmap = True,title = 'cmax_mental',black_bg = True, vmax = 0.2)"
   ]
  },
  {
   "cell_type": "code",
   "execution_count": null,
   "metadata": {},
   "outputs": [],
   "source": [
    "\n",
    "surf_label = components[cmax_mental,:][atlas['labels_L']] ## This maps the 360 values onto every voxel on the ROI in the brain.  \n",
    "plotting.view_surf(fsaverage['infl_left'],surf_label,symmetric_cmap = True,title = 'cmax_mental',black_bg = True, vmax = 0.2)"
   ]
  }
 ],
 "metadata": {
  "kernelspec": {
   "display_name": "Python 3.9.12 ('fmri')",
   "language": "python",
   "name": "python3"
  },
  "language_info": {
   "codemirror_mode": {
    "name": "ipython",
    "version": 3
   },
   "file_extension": ".py",
   "mimetype": "text/x-python",
   "name": "python",
   "nbconvert_exporter": "python",
   "pygments_lexer": "ipython3",
   "version": "3.9.12"
  },
  "orig_nbformat": 4,
  "vscode": {
   "interpreter": {
    "hash": "bb12961ae35e1f2bf7290dfae436ae47266196d96aa8209b8ac7c43d65127139"
   }
  }
 },
 "nbformat": 4,
 "nbformat_minor": 2
}
