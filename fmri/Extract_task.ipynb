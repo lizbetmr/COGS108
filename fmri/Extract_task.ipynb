{
 "cells": [
  {
   "cell_type": "code",
   "execution_count": 1,
   "metadata": {},
   "outputs": [
    {
     "name": "stdout",
     "output_type": "stream",
     "text": [
      "['0bk_body', '0bk_faces', '0bk_places', '0bk_tools', '2bk_body', '2bk_faces', '2bk_places', '2bk_tools']\n"
     ]
    }
   ],
   "source": [
    "import numpy as np \n",
    "import pandas as pd\n",
    "from nma import load_single_timeseries \n",
    "from nma import load_evs\n",
    "from hdf5storage import savemat\n",
    "\n",
    "# The data shared for NMA projects is a subset of the full HCP dataset\n",
    "N_SUBJECTS = 100\n",
    "\n",
    "# The data have already been aggregated into ROIs from the Glasser parcellation\n",
    "N_PARCELS = 360\n",
    "\n",
    "# The acquisition parameters for all tasks were identical\n",
    "TR = 0.72  # Time resolution, in seconds\n",
    "\n",
    "# The parcels are matched across hemispheres with the same order\n",
    "HEMIS = [\"Right\", \"Left\"]\n",
    "\n",
    "# Each experiment was repeated twice in each subject\n",
    "RUNS   = ['LR','RL']\n",
    "N_RUNS = 2\n",
    "\n",
    "EXPERIMENTS = {\n",
    "    'MOTOR'      : {'cond':['lf','rf','lh','rh','t','cue']},\n",
    "    'WM'         : {'cond': ['0bk_body','0bk_faces','0bk_places','0bk_tools','2bk_body','2bk_faces','2bk_places','2bk_tools']},\n",
    "    'EMOTION'    : {'cond':['fear','neut']},\n",
    "    'GAMBLING'   : {'cond':['loss','win']},\n",
    "    'LANGUAGE'   : {'cond':['math','story']},\n",
    "    'RELATIONAL' : {'cond':['match','relation']},\n",
    "    'SOCIAL'     : {'cond':['mental','rnd']}}\n",
    "\n",
    "\n",
    "\n",
    "my_exp = 'WM'\n",
    "subjects = np.loadtxt('subjects_list.txt', dtype='str')\n",
    "nsubjects = len(subjects)\n",
    "conditions = EXPERIMENTS[my_exp]['cond']\n",
    "nconditions = len(conditions)\n",
    "print(conditions)\n",
    "mysubj = subjects[0]\n",
    "data = load_single_timeseries(subject=mysubj, experiment=my_exp, bold_run='RL')\n",
    "nscan = np.shape(data)[1]\n",
    "subj_fmri = np.zeros((N_PARCELS,len(subjects)*nscan*2))\n",
    "condition_index = np.zeros(len(subjects)*nscan*2)\n",
    "subject_index = np.zeros(len(subjects)*nscan*2)\n",
    "\n",
    "for s in range(len(subjects)):\n",
    "    my_subj = subjects[s]\n",
    "    data = load_single_timeseries(subject=my_subj, experiment=my_exp, bold_run='RL')\n",
    "    for j in range(data.shape[0]):\n",
    "\t    data[j,:] = data[j,:] - np.mean(data[j,:]) \n",
    "    evs = load_evs(subject=my_subj, experiment=my_exp, conditions = conditions,bold_run='RL')\n",
    "    scan_index = dict()\n",
    "    for j in range(len(evs)):\n",
    "        x = evs[j]\n",
    "        y = np.array(x[0])\n",
    "        for k in range(1,len(x)):\n",
    "            y = np.append(y,x[k])\n",
    "        scan_index[conditions[j]] = y\n",
    "    subj_fmri[:,s*2*nscan:(s*2+1)*nscan]= data\n",
    "    trial_c_index = np.zeros(nscan)\n",
    "    for j in range(nconditions):\n",
    "        trial_c_index[scan_index[conditions[j]]] = j\n",
    "    condition_index[s*2*nscan:(s*2+1)*nscan] = trial_c_index\n",
    "    subject_index[s*2*nscan:(s*2+1)*nscan] = s\n",
    "\n",
    "    data = load_single_timeseries(subject=my_subj,experiment=my_exp,bold_run='LR')\n",
    "    for j in range(data.shape[0]):\n",
    "\t    data[j,:] = data[j,:] - np.mean(data[j,:])\n",
    "    evs = load_evs(subject=my_subj, experiment=my_exp, conditions = conditions,bold_run='LR')\n",
    "    scan_index = dict()\n",
    "    for j in range(len(evs)):\n",
    "        x = evs[j]\n",
    "        y = np.array(x[0])\n",
    "        for k in range(1,len(x)):\n",
    "            y = np.append(y,x[k])\n",
    "        scan_index[conditions[j]] = y\n",
    "    subj_fmri[:,(s*2+1)*nscan:(s*2+2)*nscan]= data\n",
    "    trial_c_index = np.zeros(nscan)\n",
    "    for j in range(nconditions):\n",
    "        trial_c_index[scan_index[conditions[j]]] = j\n",
    "    condition_index[(s*2+1)*nscan:(s*2+2)*nscan] = trial_c_index\n",
    "    subject_index[(s*2+1)*nscan:(s*2+2)*nscan] = s\n",
    "\n",
    "#z_lf = np.mean(data[:,scan_index['lf']],axis = 1)\n",
    "#z_rf = np.mean(data[:,scan_index['rf']],axis = 1)\n"
   ]
  },
  {
   "cell_type": "code",
   "execution_count": 2,
   "metadata": {},
   "outputs": [],
   "source": [
    "fmri = dict()\n",
    "fmri['fmri'] = subj_fmri\n",
    "fmri['subject'] = subject_index\n",
    "fmri['condition_index'] = condition_index\n",
    "fmri['conditions'] = conditions\n",
    "fmri['task'] = my_exp\n",
    "fmri['nsubjects'] = nsubjects\n",
    "fmri['nconditions'] = nconditions\n",
    "fmri['nregions'] = N_PARCELS\n",
    "fmri['nscan'] = nscan\n",
    "\n",
    "savemat(my_exp+'_fmri.mat',fmri,store_python_metadata=True)"
   ]
  }
 ],
 "metadata": {
  "kernelspec": {
   "display_name": "Python 3.9.12 ('fmri')",
   "language": "python",
   "name": "python3"
  },
  "language_info": {
   "codemirror_mode": {
    "name": "ipython",
    "version": 3
   },
   "file_extension": ".py",
   "mimetype": "text/x-python",
   "name": "python",
   "nbconvert_exporter": "python",
   "pygments_lexer": "ipython3",
   "version": "3.9.12"
  },
  "orig_nbformat": 4,
  "vscode": {
   "interpreter": {
    "hash": "bb12961ae35e1f2bf7290dfae436ae47266196d96aa8209b8ac7c43d65127139"
   }
  }
 },
 "nbformat": 4,
 "nbformat_minor": 2
}
